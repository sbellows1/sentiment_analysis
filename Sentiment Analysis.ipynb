{
 "cells": [
  {
   "cell_type": "markdown",
   "metadata": {},
   "source": [
    "# Sentiment Analysis"
   ]
  },
  {
   "cell_type": "markdown",
   "metadata": {},
   "source": [
    "## --- Define the Problem ---\n",
    "\n",
    "I will be examining tweets about airlines that reflect either good, neutral, or bad sentiment towards the airline. This has high practical importance to companies as it would allow them to automatically detect both good and bad feedback from a variety of sources (tweets, reviews, facebook, etc.) and potentially either respond to individual negative criticisms or enact changes if there is a pattern in the negative feedback. The goal is to develop a model that can accurately predict the sentiment of said tweets in order to provide a starting point for customer service intervention or policy change."
   ]
  },
  {
   "cell_type": "markdown",
   "metadata": {},
   "source": [
    "## Load the Data"
   ]
  },
  {
   "cell_type": "code",
   "execution_count": 1,
   "metadata": {},
   "outputs": [],
   "source": [
    "import numpy as np\n",
    "import pandas as pd\n",
    "import matplotlib.pyplot as plt\n",
    "import seaborn as sns\n",
    "from EDAhelperfunctions import *"
   ]
  },
  {
   "cell_type": "code",
   "execution_count": 2,
   "metadata": {},
   "outputs": [],
   "source": [
    "df = pd.read_csv('data/twitter-airline-sentiment/Tweets.csv')"
   ]
  },
  {
   "cell_type": "markdown",
   "metadata": {},
   "source": [
    "## --- EDA ---"
   ]
  },
  {
   "cell_type": "code",
   "execution_count": 3,
   "metadata": {},
   "outputs": [
    {
     "name": "stdout",
     "output_type": "stream",
     "text": [
      "The dataframe:\n",
      "              tweet_id airline_sentiment  airline_sentiment_confidence  \\\n",
      "0  570306133677760513           neutral                        1.0000   \n",
      "1  570301130888122368          positive                        0.3486   \n",
      "2  570301083672813571           neutral                        0.6837   \n",
      "3  570301031407624196          negative                        1.0000   \n",
      "4  570300817074462722          negative                        1.0000   \n",
      "\n",
      "  negativereason  negativereason_confidence         airline  \\\n",
      "0            NaN                        NaN  Virgin America   \n",
      "1            NaN                     0.0000  Virgin America   \n",
      "2            NaN                        NaN  Virgin America   \n",
      "3     Bad Flight                     0.7033  Virgin America   \n",
      "4     Can't Tell                     1.0000  Virgin America   \n",
      "\n",
      "  airline_sentiment_gold        name negativereason_gold  retweet_count  \\\n",
      "0                    NaN     cairdin                 NaN              0   \n",
      "1                    NaN    jnardino                 NaN              0   \n",
      "2                    NaN  yvonnalynn                 NaN              0   \n",
      "3                    NaN    jnardino                 NaN              0   \n",
      "4                    NaN    jnardino                 NaN              0   \n",
      "\n",
      "                                                text tweet_coord  \\\n",
      "0                @VirginAmerica What @dhepburn said.         NaN   \n",
      "1  @VirginAmerica plus you've added commercials t...         NaN   \n",
      "2  @VirginAmerica I didn't today... Must mean I n...         NaN   \n",
      "3  @VirginAmerica it's really aggressive to blast...         NaN   \n",
      "4  @VirginAmerica and it's a really big bad thing...         NaN   \n",
      "\n",
      "               tweet_created tweet_location               user_timezone  \n",
      "0  2015-02-24 11:35:52 -0800            NaN  Eastern Time (US & Canada)  \n",
      "1  2015-02-24 11:15:59 -0800            NaN  Pacific Time (US & Canada)  \n",
      "2  2015-02-24 11:15:48 -0800      Lets Play  Central Time (US & Canada)  \n",
      "3  2015-02-24 11:15:36 -0800            NaN  Pacific Time (US & Canada)  \n",
      "4  2015-02-24 11:14:45 -0800            NaN  Pacific Time (US & Canada)  \n",
      "Info:\n",
      "\n",
      "<class 'pandas.core.frame.DataFrame'>\n",
      "RangeIndex: 14640 entries, 0 to 14639\n",
      "Data columns (total 15 columns):\n",
      " #   Column                        Non-Null Count  Dtype  \n",
      "---  ------                        --------------  -----  \n",
      " 0   tweet_id                      14640 non-null  int64  \n",
      " 1   airline_sentiment             14640 non-null  object \n",
      " 2   airline_sentiment_confidence  14640 non-null  float64\n",
      " 3   negativereason                9178 non-null   object \n",
      " 4   negativereason_confidence     10522 non-null  float64\n",
      " 5   airline                       14640 non-null  object \n",
      " 6   airline_sentiment_gold        40 non-null     object \n",
      " 7   name                          14640 non-null  object \n",
      " 8   negativereason_gold           32 non-null     object \n",
      " 9   retweet_count                 14640 non-null  int64  \n",
      " 10  text                          14640 non-null  object \n",
      " 11  tweet_coord                   1019 non-null   object \n",
      " 12  tweet_created                 14640 non-null  object \n",
      " 13  tweet_location                9907 non-null   object \n",
      " 14  user_timezone                 9820 non-null   object \n",
      "dtypes: float64(2), int64(2), object(11)\n",
      "memory usage: 1.7+ MB\n",
      "Number of duplicates:\n",
      " 36\n",
      "Column Names:\n",
      " Index(['tweet_id', 'airline_sentiment', 'airline_sentiment_confidence',\n",
      "       'negativereason', 'negativereason_confidence', 'airline',\n",
      "       'airline_sentiment_gold', 'name', 'negativereason_gold',\n",
      "       'retweet_count', 'text', 'tweet_coord', 'tweet_created',\n",
      "       'tweet_location', 'user_timezone'],\n",
      "      dtype='object')\n",
      "Describe:\n",
      "            tweet_id  airline_sentiment_confidence  negativereason_confidence  \\\n",
      "count  1.464000e+04                  14640.000000               10522.000000   \n",
      "mean   5.692184e+17                      0.900169                   0.638298   \n",
      "std    7.791112e+14                      0.162830                   0.330440   \n",
      "min    5.675883e+17                      0.335000                   0.000000   \n",
      "25%    5.685592e+17                      0.692300                   0.360600   \n",
      "50%    5.694779e+17                      1.000000                   0.670600   \n",
      "75%    5.698905e+17                      1.000000                   1.000000   \n",
      "max    5.703106e+17                      1.000000                   1.000000   \n",
      "\n",
      "       retweet_count  \n",
      "count   14640.000000  \n",
      "mean        0.082650  \n",
      "std         0.745778  \n",
      "min         0.000000  \n",
      "25%         0.000000  \n",
      "50%         0.000000  \n",
      "75%         0.000000  \n",
      "max        44.000000  \n",
      "Describe:\n",
      "        airline_sentiment          negativereason airline  \\\n",
      "count              14640                    9178   14640   \n",
      "unique                 3                      10       6   \n",
      "top             negative  Customer Service Issue  United   \n",
      "freq                9178                    2910    3822   \n",
      "\n",
      "       airline_sentiment_gold         name     negativereason_gold  \\\n",
      "count                      40        14640                      32   \n",
      "unique                      3         7701                      13   \n",
      "top                  negative  JetBlueNews  Customer Service Issue   \n",
      "freq                       32           63                      12   \n",
      "\n",
      "                  text tweet_coord              tweet_created tweet_location  \\\n",
      "count            14640        1019                      14640           9907   \n",
      "unique           14427         832                      14247           3081   \n",
      "top     @united thanks  [0.0, 0.0]  2015-02-24 09:54:34 -0800     Boston, MA   \n",
      "freq                 6         164                          5            157   \n",
      "\n",
      "                     user_timezone  \n",
      "count                         9820  \n",
      "unique                          85  \n",
      "top     Eastern Time (US & Canada)  \n",
      "freq                          3744  \n",
      "Data Types:\n",
      " tweet_id                          int64\n",
      "airline_sentiment                object\n",
      "airline_sentiment_confidence    float64\n",
      "negativereason                   object\n",
      "negativereason_confidence       float64\n",
      "airline                          object\n",
      "airline_sentiment_gold           object\n",
      "name                             object\n",
      "negativereason_gold              object\n",
      "retweet_count                     int64\n",
      "text                             object\n",
      "tweet_coord                      object\n",
      "tweet_created                    object\n",
      "tweet_location                   object\n",
      "user_timezone                    object\n",
      "dtype: object\n"
     ]
    }
   ],
   "source": [
    "basic_eda(df)"
   ]
  },
  {
   "cell_type": "markdown",
   "metadata": {},
   "source": [
    "There is a lot of information here! Each instance is a tweet that has a text, location, sentiment, and other information about name, retweets, airline, etc.\n",
    "\n",
    "Some of these columns seem unrelated to the base goal. Since our goal is to predict sentiment based on the text of the tweet, information such as timezone, location, time of tweet should likely be removed during cleaning. We also see that a confidence level is assigned to the sentiment of each tweet; it may be wise to discard instances that have very low confidence as it is possible that these instances are not correct and will mislead the model. We could also give each instance a weight based on its confidence. Retweets are potentially useful to order tweets by popularity and therefore importance.\n",
    "\n",
    "Some columns are mostly null and should be dropped. It seems that the most important columns such as sentiment and text have no null values which is good. I will split out the negative reason and confidence columns as this is a secondary classification task that can be added in once I have achieved the primary goal of a sentiment classifier.\n",
    "\n",
    "There are 36 duplicate instances but they may actually be valid data points. For instance, there are 6 instances of the text @united thanks, which may be 6 valid instances. We will examine duplicates closely.\n",
    "\n",
    "All columns appear to be appropriate data types."
   ]
  },
  {
   "cell_type": "code",
   "execution_count": 4,
   "metadata": {},
   "outputs": [
    {
     "data": {
      "image/png": "[encoded data removed]",
      "text/plain": [
       "<Figure size 432x288 with 1 Axes>"
      ]
     },
     "metadata": {
      "needs_background": "light"
     },
     "output_type": "display_data"
    },
    {
     "data": {
      "text/html": [
       "<div>\n",
       "<style scoped>\n",
       "    .dataframe tbody tr th:only-of-type {\n",
       "        vertical-align: middle;\n",
       "    }\n",
       "\n",
       "    .dataframe tbody tr th {\n",
       "        vertical-align: top;\n",
       "    }\n",
       "\n",
       "    .dataframe thead th {\n",
       "        text-align: right;\n",
       "    }\n",
       "</style>\n",
       "<table border=\"1\" class=\"dataframe\">\n",
       "  <thead>\n",
       "    <tr style=\"text-align: right;\">\n",
       "      <th></th>\n",
       "      <th>tweet_id</th>\n",
       "      <th>airline_sentiment</th>\n",
       "      <th>airline_sentiment_confidence</th>\n",
       "      <th>negativereason</th>\n",
       "      <th>negativereason_confidence</th>\n",
       "      <th>airline</th>\n",
       "      <th>airline_sentiment_gold</th>\n",
       "      <th>name</th>\n",
       "      <th>negativereason_gold</th>\n",
       "      <th>retweet_count</th>\n",
       "      <th>text</th>\n",
       "      <th>tweet_coord</th>\n",
       "      <th>tweet_created</th>\n",
       "      <th>tweet_location</th>\n",
       "      <th>user_timezone</th>\n",
       "    </tr>\n",
       "  </thead>\n",
       "  <tbody>\n",
       "    <tr>\n",
       "      <th>0</th>\n",
       "      <td>570306133677760513</td>\n",
       "      <td>neutral</td>\n",
       "      <td>1.0000</td>\n",
       "      <td>NaN</td>\n",
       "      <td>NaN</td>\n",
       "      <td>Virgin America</td>\n",
       "      <td>NaN</td>\n",
       "      <td>cairdin</td>\n",
       "      <td>NaN</td>\n",
       "      <td>0</td>\n",
       "      <td>@VirginAmerica What @dhepburn said.</td>\n",
       "      <td>NaN</td>\n",
       "      <td>2015-02-24 11:35:52 -0800</td>\n",
       "      <td>NaN</td>\n",
       "      <td>Eastern Time (US &amp; Canada)</td>\n",
       "    </tr>\n",
       "    <tr>\n",
       "      <th>1</th>\n",
       "      <td>570301130888122368</td>\n",
       "      <td>positive</td>\n",
       "      <td>0.3486</td>\n",
       "      <td>NaN</td>\n",
       "      <td>0.0000</td>\n",
       "      <td>Virgin America</td>\n",
       "      <td>NaN</td>\n",
       "      <td>jnardino</td>\n",
       "      <td>NaN</td>\n",
       "      <td>0</td>\n",
       "      <td>@VirginAmerica plus you've added commercials t...</td>\n",
       "      <td>NaN</td>\n",
       "      <td>2015-02-24 11:15:59 -0800</td>\n",
       "      <td>NaN</td>\n",
       "      <td>Pacific Time (US &amp; Canada)</td>\n",
       "    </tr>\n",
       "    <tr>\n",
       "      <th>2</th>\n",
       "      <td>570301083672813571</td>\n",
       "      <td>neutral</td>\n",
       "      <td>0.6837</td>\n",
       "      <td>NaN</td>\n",
       "      <td>NaN</td>\n",
       "      <td>Virgin America</td>\n",
       "      <td>NaN</td>\n",
       "      <td>yvonnalynn</td>\n",
       "      <td>NaN</td>\n",
       "      <td>0</td>\n",
       "      <td>@VirginAmerica I didn't today... Must mean I n...</td>\n",
       "      <td>NaN</td>\n",
       "      <td>2015-02-24 11:15:48 -0800</td>\n",
       "      <td>Lets Play</td>\n",
       "      <td>Central Time (US &amp; Canada)</td>\n",
       "    </tr>\n",
       "    <tr>\n",
       "      <th>3</th>\n",
       "      <td>570301031407624196</td>\n",
       "      <td>negative</td>\n",
       "      <td>1.0000</td>\n",
       "      <td>Bad Flight</td>\n",
       "      <td>0.7033</td>\n",
       "      <td>Virgin America</td>\n",
       "      <td>NaN</td>\n",
       "      <td>jnardino</td>\n",
       "      <td>NaN</td>\n",
       "      <td>0</td>\n",
       "      <td>@VirginAmerica it's really aggressive to blast...</td>\n",
       "      <td>NaN</td>\n",
       "      <td>2015-02-24 11:15:36 -0800</td>\n",
       "      <td>NaN</td>\n",
       "      <td>Pacific Time (US &amp; Canada)</td>\n",
       "    </tr>\n",
       "    <tr>\n",
       "      <th>4</th>\n",
       "      <td>570300817074462722</td>\n",
       "      <td>negative</td>\n",
       "      <td>1.0000</td>\n",
       "      <td>Can't Tell</td>\n",
       "      <td>1.0000</td>\n",
       "      <td>Virgin America</td>\n",
       "      <td>NaN</td>\n",
       "      <td>jnardino</td>\n",
       "      <td>NaN</td>\n",
       "      <td>0</td>\n",
       "      <td>@VirginAmerica and it's a really big bad thing...</td>\n",
       "      <td>NaN</td>\n",
       "      <td>2015-02-24 11:14:45 -0800</td>\n",
       "      <td>NaN</td>\n",
       "      <td>Pacific Time (US &amp; Canada)</td>\n",
       "    </tr>\n",
       "  </tbody>\n",
       "</table>\n",
       "</div>"
      ],
      "text/plain": [
       "             tweet_id airline_sentiment  airline_sentiment_confidence  \\\n",
       "0  570306133677760513           neutral                        1.0000   \n",
       "1  570301130888122368          positive                        0.3486   \n",
       "2  570301083672813571           neutral                        0.6837   \n",
       "3  570301031407624196          negative                        1.0000   \n",
       "4  570300817074462722          negative                        1.0000   \n",
       "\n",
       "  negativereason  negativereason_confidence         airline  \\\n",
       "0            NaN                        NaN  Virgin America   \n",
       "1            NaN                     0.0000  Virgin America   \n",
       "2            NaN                        NaN  Virgin America   \n",
       "3     Bad Flight                     0.7033  Virgin America   \n",
       "4     Can't Tell                     1.0000  Virgin America   \n",
       "\n",
       "  airline_sentiment_gold        name negativereason_gold  retweet_count  \\\n",
       "0                    NaN     cairdin                 NaN              0   \n",
       "1                    NaN    jnardino                 NaN              0   \n",
       "2                    NaN  yvonnalynn                 NaN              0   \n",
       "3                    NaN    jnardino                 NaN              0   \n",
       "4                    NaN    jnardino                 NaN              0   \n",
       "\n",
       "                                                text tweet_coord  \\\n",
       "0                @VirginAmerica What @dhepburn said.         NaN   \n",
       "1  @VirginAmerica plus you've added commercials t...         NaN   \n",
       "2  @VirginAmerica I didn't today... Must mean I n...         NaN   \n",
       "3  @VirginAmerica it's really aggressive to blast...         NaN   \n",
       "4  @VirginAmerica and it's a really big bad thing...         NaN   \n",
       "\n",
       "               tweet_created tweet_location               user_timezone  \n",
       "0  2015-02-24 11:35:52 -0800            NaN  Eastern Time (US & Canada)  \n",
       "1  2015-02-24 11:15:59 -0800            NaN  Pacific Time (US & Canada)  \n",
       "2  2015-02-24 11:15:48 -0800      Lets Play  Central Time (US & Canada)  \n",
       "3  2015-02-24 11:15:36 -0800            NaN  Pacific Time (US & Canada)  \n",
       "4  2015-02-24 11:14:45 -0800            NaN  Pacific Time (US & Canada)  "
      ]
     },
     "execution_count": 4,
     "metadata": {},
     "output_type": "execute_result"
    }
   ],
   "source": [
    "import os\n",
    "\n",
    "if not(os.path.exists('figures')):\n",
    "    os.mkdir('figures')\n",
    "\n",
    "fig = plt.figure()\n",
    "sns.countplot(x='airline_sentiment', data=df)\n",
    "plt.show()\n",
    "fig.savefig('figures/sentiment_labels.png')\n",
    "\n",
    "df.head()"
   ]
  },
  {
   "cell_type": "markdown",
   "metadata": {},
   "source": [
    "We have many more instances of the negative class, which makes sense as people are most likely to speak out when they have had a strong negative experience. "
   ]
  },
  {
   "cell_type": "code",
   "execution_count": 5,
   "metadata": {},
   "outputs": [
    {
     "name": "stdout",
     "output_type": "stream",
     "text": [
      "186\n",
      "@united done\n"
     ]
    }
   ],
   "source": [
    "print(len(max(df['text'], key=len)))\n",
    "print(min(df['text'], key=len))"
   ]
  },
  {
   "cell_type": "code",
   "execution_count": 6,
   "metadata": {},
   "outputs": [
    {
     "data": {
      "image/png": "[encoded data removed]",
      "text/plain": [
       "<Figure size 432x288 with 1 Axes>"
      ]
     },
     "metadata": {
      "needs_background": "light"
     },
     "output_type": "display_data"
    }
   ],
   "source": [
    "from wordcloud import WordCloud, STOPWORDS\n",
    "\n",
    "pos = df.loc[df['airline_sentiment'] == 'positive']\n",
    "neut = df.loc[df['airline_sentiment'] == 'neutral']\n",
    "neg = df.loc[df['airline_sentiment'] == 'negative']\n",
    "\n",
    "pos_text = ''.join([tweet for tweet in pos['text']])\n",
    "neut_text = ''.join([tweet for tweet in neut['text']])\n",
    "neg_text = ''.join([tweet for tweet in neg['text']])\n",
    "\n",
    "def make_wordcloud(text, filename):\n",
    "    '''creates a wordcloud from the given text and saves it to the given filename'''\n",
    "    fig = WordCloud(background_color='white', max_words=100, stopwords=STOPWORDS.update(\n",
    "    ['united', 'JetBlue', 'SouthwestAir', 'AmericanAir', 'USAirway', 'VirginAmerica', 'USAirways', 'flight']))\n",
    "    \n",
    "    pic = plt.figure()\n",
    "    plt.imshow(fig.generate(text))\n",
    "    plt.axis('off')\n",
    "    plt.show()\n",
    "    pic.savefig(filename)\n",
    "\n",
    "make_wordcloud(pos_text, 'figures/pos_wordcloud.png')"
   ]
  },
  {
   "cell_type": "code",
   "execution_count": 7,
   "metadata": {},
   "outputs": [
    {
     "data": {
      "image/png": "[encoded data removed]",
      "text/plain": [
       "<Figure size 432x288 with 1 Axes>"
      ]
     },
     "metadata": {
      "needs_background": "light"
     },
     "output_type": "display_data"
    }
   ],
   "source": [
    "make_wordcloud(neut_text, 'figures/neut_wordcloud.png')"
   ]
  },
  {
   "cell_type": "code",
   "execution_count": 8,
   "metadata": {},
   "outputs": [
    {
     "data": {
      "image/png": "[encoded data removed]",
      "text/plain": [
       "<Figure size 432x288 with 1 Axes>"
      ]
     },
     "metadata": {
      "needs_background": "light"
     },
     "output_type": "display_data"
    }
   ],
   "source": [
    "make_wordcloud(neg_text, 'figures/neg_wordcloud.png')"
   ]
  },
  {
   "cell_type": "markdown",
   "metadata": {},
   "source": [
    "We see clear differences in the word clouds for different classes. The positive class has words like thank, great, and awesome, whereas the negative class has words like now, time, and customer service. These differences hopefully mean that we will be able to use these tweets to correctly classify sentiment."
   ]
  },
  {
   "cell_type": "markdown",
   "metadata": {},
   "source": [
    "## --- Baseline ---"
   ]
  },
  {
   "cell_type": "code",
   "execution_count": 9,
   "metadata": {},
   "outputs": [],
   "source": [
    "df.loc[df['airline_sentiment'] != 'neutral', 'airline_sentiment'].value_counts(normalize = True)\n",
    "\n",
    "# Remove the neutral class\n",
    "df = df.loc[df['airline_sentiment'] != 'neutral',]"
   ]
  },
  {
   "cell_type": "markdown",
   "metadata": {},
   "source": [
    "I will be using f1 score as a metric for this project as the classes are unbalanced so accuracy paints a biased picture. F1 score will always be 50% for random guessing, so our baseline f1 score will be 50%.\n",
    "\n",
    "I have included the option to balance the dataset (i.e. generate more positive examples in order to have the classes equally represented), but this will not affect the baseline f1 score.\n",
    "\n",
    "I will not be using the neutral class for this classification as it seems to have little business impact. We would like to be able to know when people are saying good things or bad things about our company, but it shouldn't matter too much if people are saying neutral things about the company."
   ]
  },
  {
   "cell_type": "markdown",
   "metadata": {},
   "source": [
    "## --- Clean ---"
   ]
  },
  {
   "cell_type": "code",
   "execution_count": 10,
   "metadata": {},
   "outputs": [
    {
     "data": {
      "text/plain": [
       "(9232, 15)"
      ]
     },
     "execution_count": 10,
     "metadata": {},
     "output_type": "execute_result"
    }
   ],
   "source": [
    "from sklearn.model_selection import train_test_split\n",
    "import random\n",
    "\n",
    "# Split out labels and create train/test sets\n",
    "train, test = train_test_split(df, test_size=.2, random_state=42)\n",
    "\n",
    "# Boolean asking if you would like to balance the dataset\n",
    "# I am only balancing the training set as it may artificially inflate the accuracy to have rows in the test set that are \n",
    "# identical to rows in the training set.\n",
    "balance_dataset = False\n",
    "\n",
    "if balance_dataset:\n",
    "    pos = train.loc[df['airline_sentiment'] == 'positive']\n",
    "    neg = train.loc[df['airline_sentiment'] == 'negative']\n",
    "    new_pos = pos.sample(neg.shape[0], replace=True, axis=0)\n",
    "    print(new_pos.shape, pos.shape, neg.shape)\n",
    "    train = neg.append(new_pos).sample(frac=1)\n",
    "    \n",
    "train.shape"
   ]
  },
  {
   "cell_type": "code",
   "execution_count": 11,
   "metadata": {},
   "outputs": [],
   "source": [
    "def split_df(df, keep_cols, reason_cols, drop_cols):\n",
    "    '''splits the dataframe into 3 by the column lists'''\n",
    "    df = df.drop_duplicates(subset=keep_cols)\n",
    "    keep_df = df[keep_cols]\n",
    "    reason_df = df[reason_cols]\n",
    "    drop_df = df[drop_cols]\n",
    "    return keep_df, reason_df, drop_df\n",
    "\n",
    "keep_cols = ['tweet_id', 'airline_sentiment', 'airline_sentiment_confidence', 'retweet_count', 'text']\n",
    "reason_cols = ['negativereason', 'negativereason_confidence']\n",
    "drop_cols = ['airline', 'airline_sentiment_gold', 'name', 'negativereason_gold', 'tweet_coord', \n",
    "             'tweet_created', 'tweet_location', 'user_timezone']"
   ]
  },
  {
   "cell_type": "markdown",
   "metadata": {},
   "source": [
    "It appears there is some issue with American Airlines and duplicate tweets. These tweets are in depth and unlikely to be repeated word for word, so these duplicates should be dropped."
   ]
  },
  {
   "cell_type": "code",
   "execution_count": 12,
   "metadata": {},
   "outputs": [
    {
     "name": "stdout",
     "output_type": "stream",
     "text": [
      "negative    7280\n",
      "positive    1911\n",
      "Name: airline_sentiment, dtype: int64\n",
      "negative    1861\n",
      "positive     446\n",
      "Name: airline_sentiment, dtype: int64\n"
     ]
    },
    {
     "data": {
      "text/plain": [
       "9498     @USAirways Another dead end.  They only handle...\n",
       "10811    @USAirways #2066. Was on plane from PBI to CLT...\n",
       "10831    @USAirways waiting for bags now over 25min in ...\n",
       "10193    @USAirways Never heard back, but this would he...\n",
       "1212                                       @united Thanks!\n",
       "Name: text, dtype: object"
      ]
     },
     "execution_count": 12,
     "metadata": {},
     "output_type": "execute_result"
    }
   ],
   "source": [
    "train_keep, train_reason, train_drop = split_df(train, keep_cols, reason_cols, drop_cols)\n",
    "test_keep, test_reason, test_drop = split_df(test, keep_cols, reason_cols, drop_cols)\n",
    "\n",
    "train_labels = train_keep.pop('airline_sentiment')\n",
    "test_labels = test_keep.pop('airline_sentiment')\n",
    "\n",
    "print(train_labels.value_counts())\n",
    "print(test_labels.value_counts())\n",
    "\n",
    "train_keep['text'].head()"
   ]
  },
  {
   "cell_type": "markdown",
   "metadata": {},
   "source": [
    "There are no numeric columns with range, meaning we do not need to search for outliers. Also, the columns we are currently working with have no NA values, so we do not need to consider dropping rows or imputing values."
   ]
  },
  {
   "cell_type": "markdown",
   "metadata": {},
   "source": [
    "Lastly, we remove the neutral class as it is not useful to our business case and will only serve to dilute our training power."
   ]
  },
  {
   "cell_type": "markdown",
   "metadata": {},
   "source": [
    "## --- Preprocess Text ---"
   ]
  },
  {
   "cell_type": "code",
   "execution_count": 13,
   "metadata": {},
   "outputs": [],
   "source": [
    "from nltk.tokenize import word_tokenize\n",
    "import contractions\n",
    "from nltk.corpus import stopwords\n",
    "from nltk.stem import WordNetLemmatizer"
   ]
  },
  {
   "cell_type": "code",
   "execution_count": 14,
   "metadata": {},
   "outputs": [],
   "source": [
    "from sklearn.base import BaseEstimator, TransformerMixin\n",
    "from string import punctuation\n",
    "\n",
    "\n",
    "class TextProcessor(BaseEstimator, TransformerMixin):\n",
    "    '''preprocceses a list of texts, transforming text to lowercase, removing punctuation and contractions, tokenizing \n",
    "    the text, removing stopwords, and lemmatizing the tokens'''\n",
    "    \n",
    "    def __init__(self):\n",
    "        pass\n",
    "    \n",
    "    def fit(self):\n",
    "        return self\n",
    "    \n",
    "    def transform(self, corpus):\n",
    "        corpus = corpus.str.lower()\n",
    "        corpus = corpus.map(lambda x: ''.join(ch for ch in x if ch not in punctuation))\n",
    "        corpus = corpus.map(lambda x: contractions.fix(x))\n",
    "        corpus = corpus.map(word_tokenize)\n",
    "        corpus = corpus.map(lambda x: [w for w in x if w not in stopwords.words('english')])\n",
    "        lem = WordNetLemmatizer()\n",
    "        corpus = corpus.map(lambda x: [lem.lemmatize(w, pos='n') for w in x])\n",
    "        corpus = corpus.map(lambda x: [lem.lemmatize(w, pos='v') for w in x])\n",
    "        corpus = corpus.map(lambda x: [lem.lemmatize(w, pos='a') for w in x])\n",
    "        return corpus"
   ]
  },
  {
   "cell_type": "code",
   "execution_count": 15,
   "metadata": {},
   "outputs": [
    {
     "data": {
      "text/plain": [
       "9498     [usairways, another, dead, end, handle, aa, la...\n",
       "10811    [usairways, 2066, plane, pbi, clt, know, freez...\n",
       "10831       [usairways, wait, bag, 25min, phl, bag, claim]\n",
       "10193    [usairways, never, hear, back, would, help, ch...\n",
       "1212                                        [unite, thank]\n",
       "Name: text, dtype: object"
      ]
     },
     "execution_count": 15,
     "metadata": {},
     "output_type": "execute_result"
    }
   ],
   "source": [
    "processor = TextProcessor()\n",
    "train_preprocessed = train_keep.copy()\n",
    "test_preprocessed = test_keep.copy()\n",
    "train_tokens = processor.transform(train_keep['text'])\n",
    "train_preprocessed['text'] = train_tokens\n",
    "test_tokens = processor.transform(test_keep['text'])\n",
    "test_preprocessed['text'] = test_tokens\n",
    "train_preprocessed['text'].head()"
   ]
  },
  {
   "cell_type": "markdown",
   "metadata": {},
   "source": [
    "Here we see that our text has been nicely normalized as it is all lowercase, has no punctuation, and has been split into individual tokens and lemmatized into the root words. We have also removed some common English words with little to no predictive power."
   ]
  },
  {
   "cell_type": "markdown",
   "metadata": {},
   "source": [
    "## --- Feature Extraction ---"
   ]
  },
  {
   "cell_type": "code",
   "execution_count": 16,
   "metadata": {},
   "outputs": [
    {
     "name": "stdout",
     "output_type": "stream",
     "text": [
      "Positive words:\n",
      "                word  count     ratio\n",
      "10103          thank   1151  0.400144\n",
      "561          jetblue   1218  0.126681\n",
      "6497    southwestair   1418  0.100530\n",
      "9605           great    245  0.084602\n",
      "6223            love    172  0.054330\n",
      "6069   virginamerica    267  0.044584\n",
      "7235         awesome     90  0.040489\n",
      "4982            best    129  0.035793\n",
      "8106            much    162  0.035224\n",
      "5737           amaze     81  0.033798\n",
      "Negative words:\n",
      "             word  count     ratio\n",
      "2044         call    510 -0.050896\n",
      "8425          get   1320 -0.051171\n",
      "4593         hold    536 -0.067020\n",
      "4042        delay    695 -0.076308\n",
      "2472       cancel    717 -0.077348\n",
      "6841        unite   2544 -0.077924\n",
      "8206  americanair   1900 -0.080632\n",
      "6821         hour    840 -0.103493\n",
      "5933    usairways   2095 -0.132522\n",
      "3372       flight   2540 -0.144100\n"
     ]
    },
    {
     "data": {
      "image/png": "[encoded data removed]",
      "text/plain": [
       "<Figure size 432x288 with 1 Axes>"
      ]
     },
     "metadata": {
      "needs_background": "light"
     },
     "output_type": "display_data"
    }
   ],
   "source": [
    "def infrequent_words(word_df, threshhold):\n",
    "    '''creates a list of words that appear less than the threshhold'''\n",
    "    return list(word_df.loc[word_df['count'] <= threshhold, 'word'])\n",
    "\n",
    "\n",
    "def noise_words(word_df, threshhold):\n",
    "    '''create a list of words whose ratio of positive to negative textx is below the threshhold'''\n",
    "    return list(word_df.loc[abs(word_df['ratio']) <= threshhold, 'word'])\n",
    "\n",
    "\n",
    "class RemoveNoise(BaseEstimator, TransformerMixin):\n",
    "    '''transforms the lists of texts by removing very rare words and words with low predictive power'''\n",
    "    \n",
    "    def __init__(self):\n",
    "        pass\n",
    "    \n",
    "    \n",
    "    def calculate_word_df(self, X, y):\n",
    "        '''creates a dataframe from the given features and labels with a word column, a count column, and a ratio column'''\n",
    "        tokenlist = []\n",
    "        pos_tokens = X.loc[y == 'positive']\n",
    "        neg_tokens = X.loc[y == 'negative']\n",
    "        for token_list in X['text']:\n",
    "            tokenlist.extend(token_list)\n",
    "        all_tokens = list(set(tokenlist))\n",
    "        \n",
    "        pos_percent = {}\n",
    "        neg_percent = {}\n",
    "        token_count = []\n",
    "        ratio = []\n",
    "        for token in all_tokens:\n",
    "            token_count.append(sum(X['text'].map(lambda x: token in x)))\n",
    "            pos_percent[token] = np.mean(pos_tokens['text'].map(lambda x: token in x))\n",
    "            neg_percent[token] = np.mean(neg_tokens['text'].map(lambda x: token in x))\n",
    "            ratio.append(pos_percent[token] - neg_percent[token])\n",
    "    \n",
    "        word_df = pd.DataFrame({'word': all_tokens, 'count': token_count, 'ratio': ratio})\n",
    "        return word_df\n",
    "    \n",
    "    \n",
    "    def fit(self, X, y, frequency_thresh, noise_thresh):\n",
    "        '''creates list of rare words below the frequency threshhold, creates list of words with low predictive \n",
    "        power whose ratio is below the noise_threshhold'''\n",
    "        word_df = self.calculate_word_df(X, y)\n",
    "        infreq_list = infrequent_words(word_df, frequency_thresh)\n",
    "        noise_list = noise_words(word_df, noise_thresh)\n",
    "        self.infreq_list = infreq_list\n",
    "        self.noise_list = noise_list\n",
    "        return self\n",
    "    \n",
    "    \n",
    "    def transform(self, X, y=None):\n",
    "        '''removes words that are rare and have low predictive power'''\n",
    "        X['text'] = X['text'].map(lambda x: [w for w in x if w not in self.infreq_list])\n",
    "        X['text'] = X['text'].map(lambda x: [w for w in x if w not in self.noise_list])\n",
    "        return X\n",
    "\n",
    "train_tokens = train_preprocessed.copy()\n",
    "test_tokens = test_preprocessed.copy()\n",
    "noise_remover = RemoveNoise()\n",
    "noise_remover.fit(train_tokens, train_labels, 5, 0.002)\n",
    "noise_remover.transform(train_tokens)\n",
    "\n",
    "noise_remover.transform(test_tokens)\n",
    "word_df = noise_remover.calculate_word_df(train_preprocessed, train_labels)\n",
    "word_df.sort_values('ratio', inplace=True, ascending=False)\n",
    "sns.distplot(word_df['ratio'])\n",
    "print(\"Positive words:\")\n",
    "print(word_df.head(10))\n",
    "print(\"Negative words:\")\n",
    "print(word_df.tail(10))"
   ]
  },
  {
   "cell_type": "markdown",
   "metadata": {},
   "source": [
    "We see that finding the ratio of positive compared to negative reviews seems to have had a great effect! The most highly negative words are words we would expect to find in negative comments about airlines such as cancel and delay, along with airlines that receive more negative comments. The most positive words are words we would expect to be highly positive such as  love and great, alongisde airlines that receive mostly positive comments. Notice how there are a high number of words that have a ratio of 0, which means they are equally represented in the positive and negative reviews. These words are likely not informative to our models and may in fact obscure the important features, so I have removed them. I also removed very rare words, words that appeared less than 5 times in the dataset. This will guard against misspellings and other oddities in the data."
   ]
  },
  {
   "cell_type": "code",
   "execution_count": 17,
   "metadata": {},
   "outputs": [
    {
     "data": {
      "text/plain": [
       "Series([], Name: airline_sentiment, dtype: int64)"
      ]
     },
     "execution_count": 17,
     "metadata": {},
     "output_type": "execute_result"
    }
   ],
   "source": [
    "##This cell checks how many empty texts we have and what labels they are given.\n",
    "train_labels.loc[train_keep['text'].astype(str) == '[]'].value_counts()"
   ]
  },
  {
   "cell_type": "code",
   "execution_count": 18,
   "metadata": {},
   "outputs": [
    {
     "data": {
      "text/plain": [
       "matrix([[0., 0., 0., ..., 0., 0., 0.],\n",
       "        [0., 0., 0., ..., 0., 0., 0.],\n",
       "        [0., 0., 0., ..., 0., 0., 0.],\n",
       "        ...,\n",
       "        [0., 0., 0., ..., 0., 0., 0.],\n",
       "        [0., 0., 0., ..., 0., 0., 0.],\n",
       "        [0., 0., 0., ..., 0., 0., 0.]])"
      ]
     },
     "execution_count": 18,
     "metadata": {},
     "output_type": "execute_result"
    }
   ],
   "source": [
    "from sklearn.feature_extraction.text import TfidfVectorizer\n",
    "\n",
    "\n",
    "def dummy_tokenizer(doc):\n",
    "    '''dummy function necessary for tfidf'''\n",
    "    return doc\n",
    "\n",
    "tfidf = TfidfVectorizer(analyzer='word', tokenizer=dummy_tokenizer, preprocessor=dummy_tokenizer, token_pattern=None)\n",
    "train_doc_word = tfidf.fit_transform(train_tokens['text'])\n",
    "test_doc_word = tfidf.transform(test_tokens['text'])\n",
    "train_doc_word.todense()"
   ]
  },
  {
   "cell_type": "markdown",
   "metadata": {},
   "source": [
    "Here I create the document term matrices using tfidf, which represents how commonly a term appears in a document but scaled by how often the term appears across all documents. The reason for this is words that appear in all documents are likely not predictive, so we give higher weight to rarer words."
   ]
  },
  {
   "cell_type": "code",
   "execution_count": 19,
   "metadata": {},
   "outputs": [],
   "source": [
    "# One hot encode targets\n",
    "\n",
    "train_labels.loc[train_labels == 'positive'] = 1\n",
    "train_labels.loc[train_labels == 'negative'] = 0\n",
    "train_labels = train_labels.astype('int')\n",
    "\n",
    "test_labels.loc[test_labels == 'positive'] = 1\n",
    "test_labels.loc[test_labels == 'negative'] = 0\n",
    "test_labels = test_labels.astype('int')"
   ]
  },
  {
   "cell_type": "code",
   "execution_count": 20,
   "metadata": {},
   "outputs": [],
   "source": [
    "from scipy import io\n",
    "import pickle\n",
    "\n",
    "# Save matrices and labels to disk\n",
    "def write_labels(filename, labels):\n",
    "    '''writes an array of labels to disk'''\n",
    "    pickle.dump(labels, open(filename, 'wb'))\n",
    "\n",
    "\n",
    "def write_matrix(filename, mtx):\n",
    "    '''writes a doc term matrix to disk'''\n",
    "    io.mmwrite(filename, mtx)\n",
    "    \n",
    "write_matrix('data/train_matrix.mtx', train_doc_word)\n",
    "write_matrix('data/test_matrix.mtx', test_doc_word)\n",
    "write_labels('data/train_labels.p', train_labels)\n",
    "write_labels('data/test_labels.p', test_labels)"
   ]
  },
  {
   "cell_type": "markdown",
   "metadata": {},
   "source": [
    "## --- Build Model ---"
   ]
  },
  {
   "cell_type": "code",
   "execution_count": 21,
   "metadata": {},
   "outputs": [
    {
     "name": "stderr",
     "output_type": "stream",
     "text": [
      "[Parallel(n_jobs=1)]: Using backend SequentialBackend with 1 concurrent workers.\n",
      "[Parallel(n_jobs=1)]: Done   1 out of   1 | elapsed:    0.1s remaining:    0.0s\n"
     ]
    },
    {
     "name": "stdout",
     "output_type": "stream",
     "text": [
      "[CV]  ................................................................\n",
      "[CV] .................................... , score=0.745, total=   0.1s\n",
      "[CV]  ................................................................\n",
      "[CV] .................................... , score=0.703, total=   0.0s\n",
      "[CV]  ................................................................\n"
     ]
    },
    {
     "name": "stderr",
     "output_type": "stream",
     "text": [
      "[Parallel(n_jobs=1)]: Done   2 out of   2 | elapsed:    0.1s remaining:    0.0s\n",
      "[Parallel(n_jobs=1)]: Done   3 out of   3 | elapsed:    0.2s remaining:    0.0s\n",
      "[Parallel(n_jobs=1)]: Done   4 out of   4 | elapsed:    0.2s remaining:    0.0s\n",
      "[Parallel(n_jobs=1)]: Done   5 out of   5 | elapsed:    0.3s finished\n",
      "[Parallel(n_jobs=1)]: Using backend SequentialBackend with 1 concurrent workers.\n"
     ]
    },
    {
     "name": "stdout",
     "output_type": "stream",
     "text": [
      "[CV] .................................... , score=0.702, total=   0.0s\n",
      "[CV]  ................................................................\n",
      "[CV] .................................... , score=0.701, total=   0.0s\n",
      "[CV]  ................................................................\n",
      "[CV] .................................... , score=0.679, total=   0.0s\n",
      "0.7057238672890758\n",
      "[CV]  ................................................................\n",
      "[CV] .................................... , score=0.505, total=   0.2s\n",
      "[CV]  ................................................................\n",
      "[CV] .................................... , score=0.475, total=   0.1s\n",
      "[CV]  ................................................................\n"
     ]
    },
    {
     "name": "stderr",
     "output_type": "stream",
     "text": [
      "[Parallel(n_jobs=1)]: Done   1 out of   1 | elapsed:    0.1s remaining:    0.0s\n",
      "[Parallel(n_jobs=1)]: Done   2 out of   2 | elapsed:    0.2s remaining:    0.0s\n"
     ]
    },
    {
     "name": "stdout",
     "output_type": "stream",
     "text": [
      "[CV] .................................... , score=0.489, total=   0.2s\n",
      "[CV]  ................................................................\n",
      "[CV] .................................... , score=0.491, total=   0.2s\n",
      "[CV]  ................................................................\n"
     ]
    },
    {
     "name": "stderr",
     "output_type": "stream",
     "text": [
      "[Parallel(n_jobs=1)]: Done   3 out of   3 | elapsed:    0.4s remaining:    0.0s\n",
      "[Parallel(n_jobs=1)]: Done   4 out of   4 | elapsed:    0.6s remaining:    0.0s\n"
     ]
    },
    {
     "name": "stdout",
     "output_type": "stream",
     "text": [
      "[CV] .................................... , score=0.472, total=   0.2s\n",
      "0.4864219454280863\n",
      "[CV]  ................................................................\n"
     ]
    },
    {
     "name": "stderr",
     "output_type": "stream",
     "text": [
      "[Parallel(n_jobs=1)]: Done   5 out of   5 | elapsed:    0.7s finished\n",
      "[Parallel(n_jobs=1)]: Using backend SequentialBackend with 1 concurrent workers.\n"
     ]
    },
    {
     "name": "stdout",
     "output_type": "stream",
     "text": [
      "[CV] .................................... , score=0.726, total=   2.3s\n",
      "[CV]  ................................................................\n"
     ]
    },
    {
     "name": "stderr",
     "output_type": "stream",
     "text": [
      "[Parallel(n_jobs=1)]: Done   1 out of   1 | elapsed:    2.2s remaining:    0.0s\n"
     ]
    },
    {
     "name": "stdout",
     "output_type": "stream",
     "text": [
      "[CV] .................................... , score=0.695, total=   2.3s\n",
      "[CV]  ................................................................\n"
     ]
    },
    {
     "name": "stderr",
     "output_type": "stream",
     "text": [
      "[Parallel(n_jobs=1)]: Done   2 out of   2 | elapsed:    4.6s remaining:    0.0s\n"
     ]
    },
    {
     "name": "stdout",
     "output_type": "stream",
     "text": [
      "[CV] .................................... , score=0.671, total=   2.4s\n",
      "[CV]  ................................................................\n"
     ]
    },
    {
     "name": "stderr",
     "output_type": "stream",
     "text": [
      "[Parallel(n_jobs=1)]: Done   3 out of   3 | elapsed:    6.9s remaining:    0.0s\n"
     ]
    },
    {
     "name": "stdout",
     "output_type": "stream",
     "text": [
      "[CV] .................................... , score=0.695, total=   2.4s\n",
      "[CV]  ................................................................\n"
     ]
    },
    {
     "name": "stderr",
     "output_type": "stream",
     "text": [
      "[Parallel(n_jobs=1)]: Done   4 out of   4 | elapsed:    9.3s remaining:    0.0s\n"
     ]
    },
    {
     "name": "stdout",
     "output_type": "stream",
     "text": [
      "[CV] .................................... , score=0.687, total=   2.4s\n",
      "0.6948412519584997\n"
     ]
    },
    {
     "name": "stderr",
     "output_type": "stream",
     "text": [
      "[Parallel(n_jobs=1)]: Done   5 out of   5 | elapsed:   11.8s finished\n"
     ]
    }
   ],
   "source": [
    "def load_matrix(filename):\n",
    "    '''loads a .mtx file from disk'''\n",
    "    return io.mmread(filename)\n",
    "\n",
    "\n",
    "def load_labels(filename):\n",
    "    '''loads a .p file from disk'''\n",
    "    return pickle.load(open(filename, 'rb'))\n",
    "\n",
    "train_matrix = load_matrix('data/train_matrix.mtx')\n",
    "test_matrix = load_matrix('data/test_matrix.mtx')\n",
    "\n",
    "from sklearn.naive_bayes import MultinomialNB\n",
    "from sklearn.naive_bayes import GaussianNB\n",
    "from sklearn.model_selection import cross_validate\n",
    "from sklearn.ensemble import GradientBoostingClassifier\n",
    "\n",
    "##This metric will evaluate both the ML and RNN models\n",
    "metric = 'f1'\n",
    "\n",
    "multi_clf = MultinomialNB()\n",
    "gauss_clf = GaussianNB()\n",
    "gb = GradientBoostingClassifier(max_depth = 5)\n",
    "\n",
    "multi_cv = cross_validate(multi_clf, train_matrix.toarray(), train_labels, scoring=metric, cv=5, \n",
    "                          verbose=5, return_estimator=True)\n",
    "print(multi_cv['test_score'].mean())\n",
    "\n",
    "gauss_cv = cross_validate(gauss_clf, train_matrix.toarray(), train_labels, scoring=metric, cv=5, verbose=5,\n",
    "                         return_estimator=True)\n",
    "print(gauss_cv['test_score'].mean())\n",
    "\n",
    "gb_cv = cross_validate(gb, train_matrix, train_labels, scoring=metric, cv=5, verbose=5, \n",
    "                       return_estimator=True)\n",
    "print(gb_cv['test_score'].mean())"
   ]
  },
  {
   "cell_type": "code",
   "execution_count": 22,
   "metadata": {},
   "outputs": [
    {
     "data": {
      "text/plain": [
       "<matplotlib.legend.Legend at 0x14fc04db2b0>"
      ]
     },
     "execution_count": 22,
     "metadata": {},
     "output_type": "execute_result"
    },
    {
     "data": {
      "image/png": "[encoded data removed]",
      "text/plain": [
       "<Figure size 432x288 with 1 Axes>"
      ]
     },
     "metadata": {
      "needs_background": "light"
     },
     "output_type": "display_data"
    }
   ],
   "source": [
    "x = [1, 2, 3, 4, 5, 'mean', 1, 2, 3, 4, 5, 'mean', 1, 2, 3, 4, 5, 'mean']\n",
    "y = list(multi_cv['test_score']) + [multi_cv['test_score'].mean()] + list(gauss_cv['test_score']) + [\n",
    "    gauss_cv['test_score'].mean()] + list(gb_cv['test_score']) + [gb_cv['test_score'].mean()]\n",
    "model_name = ['Multinomial NB']*6 + ['Gaussian NB']*6 + ['Gradient Boosted']*6\n",
    "\n",
    "models_df = pd.DataFrame({'Cross-validation Fold': x, 'F1 Score': y, 'model': model_name})\n",
    "sns.barplot(x='Cross-validation Fold', y='F1 Score', hue='model', data=models_df)\n",
    "plt.legend(bbox_to_anchor=(1.05, 1), loc=2, borderaxespad=0.)"
   ]
  },
  {
   "cell_type": "markdown",
   "metadata": {},
   "source": [
    "I attempted weighting the instances by the label confidence, but that appeared to have no effect on performance and only added model complexity. Also: these models seem to perform worse on the balanced dataset, and if selected should be trained on the original dataset.\n",
    "\n",
    "Somewhat surprisingly, the multinomial naive bayes model out-performed gradient boosting on this data! It achieved an f1 score of 70%, an increase of 20%."
   ]
  },
  {
   "cell_type": "markdown",
   "metadata": {},
   "source": [
    "## --- RNN Model ---"
   ]
  },
  {
   "cell_type": "code",
   "execution_count": null,
   "metadata": {},
   "outputs": [
    {
     "name": "stderr",
     "output_type": "stream",
     "text": [
      "Using TensorFlow backend.\n"
     ]
    }
   ],
   "source": [
    "from itertools import count\n",
    "from collections import defaultdict\n",
    "from keras.preprocessing.sequence import pad_sequences\n",
    "\n",
    "\n",
    "def word_to_id(token_list):\n",
    "    '''creates a dictionary mapping each unique word to a unique integer id'''\n",
    "    id_dict = defaultdict((count().__next__))\n",
    "    for token in token_list:\n",
    "        id_dict[token] = id_dict[token]\n",
    "    return id_dict\n",
    "\n",
    "# Applying embedding after stopwords but before rare/useless words.\n",
    "train_orig = train_keep.copy()\n",
    "train_orig['text'] = train_orig['text'].str.lower()\n",
    "train_orig['text'] = train_orig['text'].map(lambda x: ''.join(ch for ch in x if ch not in punctuation))\n",
    "train_orig['text'] = train_orig['text'].map(lambda x: contractions.fix(x))\n",
    "train_orig['text'] = train_orig['text'].map(word_tokenize)\n",
    "\n",
    "test_orig = test_keep.copy()\n",
    "test_orig['text'] = test_orig['text'].str.lower()\n",
    "test_orig['text'] = test_orig['text'].map(lambda x: ''.join(ch for ch in x if ch not in punctuation))\n",
    "test_orig['text'] = test_orig['text'].map(lambda x: contractions.fix(x))\n",
    "test_orig['text'] = test_orig['text'].map(word_tokenize)\n",
    "\n",
    "\n",
    "def tokens_to_sequence(tokens):\n",
    "    '''takes a dataframe with a \"text\" column and maps the text column to integers'''\n",
    "    tokenlist = []\n",
    "    for token in tokens['text']:\n",
    "        tokenlist.extend(token)\n",
    "    id_dict = word_to_id(list(set(tokenlist)))\n",
    "    print(len(max(tokens['text'], key=len)))\n",
    "    sequence_list = tokens['text'].map(lambda x: [id_dict[w] + 1 for w in x])\n",
    "    print(max(id_dict.values()))\n",
    "    return sequence_list, id_dict\n",
    "\n",
    "sequence_tokens, id_dict_tokens = tokens_to_sequence(train_tokens)\n",
    "sequence_preprocess, id_dict_preprocess = tokens_to_sequence(train_preprocessed)\n",
    "sequence_w_stopwords, id_dict_stopwords = tokens_to_sequence(train_orig)\n",
    "\n",
    "\n",
    "def test_token_update(tokens, id_dict):\n",
    "    '''takes a dataframe with a \"text\" column and a dictionary mapping words to ids. \n",
    "    Maps the text column to integers based on said dictionary'''\n",
    "    sequence_list = tokens['text'].map(lambda x: [id_dict[w] + 1 if w in id_dict.keys() else 0 for w in x])\n",
    "    return sequence_list\n",
    "\n",
    "\n",
    "def pad_sequence(sequence):\n",
    "    '''takes an array of text and pads the sequence with 0s so all inputs are the same length'''\n",
    "    return pad_sequences(sequence, len(max(sequence, key=len)), 'int', 'post', 'post', 0)\n",
    "\n",
    "\n",
    "def pad_test_sequence(sequence, train_sequence):\n",
    "    '''takes an array of text and a padded sequence, pads the array of text to the same length as the padded sequence'''\n",
    "    return pad_sequences(sequence, len(max(train_sequence, key=len)), 'int', 'post', 'post', 0)\n",
    "\n",
    "sequence_tokens = pad_sequence(sequence_tokens)\n",
    "sequence_preprocess = pad_sequence(sequence_preprocess)\n",
    "sequence_w_stopwords = pad_sequence(sequence_w_stopwords)\n",
    "\n",
    "test_token_sequence = test_token_update(test_tokens, id_dict_tokens)\n",
    "test_pre_sequence = test_token_update(test_preprocessed, id_dict_preprocess)\n",
    "test_stop_sequence = test_token_update(test_orig, id_dict_stopwords)\n",
    "\n",
    "test_token_sequence = pad_test_sequence(test_token_sequence, sequence_tokens)\n",
    "test_pre_sequence = pad_test_sequence(test_pre_sequence, sequence_preprocess)\n",
    "test_stop_sequence = pad_test_sequence(test_stop_sequence, sequence_w_stopwords)"
   ]
  },
  {
   "cell_type": "code",
   "execution_count": null,
   "metadata": {},
   "outputs": [],
   "source": [
    "sequence_tokens"
   ]
  },
  {
   "cell_type": "markdown",
   "metadata": {},
   "source": [
    "Here I create the sequences that will be fed into the RNNs. I will be training 3 RNNs: one model on the tokens used in the other models, one model on the tokens before rare and neutral words were removed, and one model on the tokens before stopwords were removed. The test data is then put through the same process and to avoid test leakage, any words appearing in the test set that did not appear in the train set are not encoded and therefore are dropped."
   ]
  },
  {
   "cell_type": "code",
   "execution_count": null,
   "metadata": {},
   "outputs": [],
   "source": [
    "from keras.models import Sequential\n",
    "from keras.layers import Embedding, LSTM, Dense, Dropout\n",
    "from keras.callbacks import EarlyStopping, ModelCheckpoint\n",
    "from keras import optimizers\n",
    "\n",
    "\n",
    "def build_train_model(sequence, y, id_dict, embedding_size, lstm_size,\n",
    "                      dropout, epochs, batch_size, filename):\n",
    "    '''trains an RNN. takes a sequence of inputs, an array of labels, a dictionary mapping words to integers, \n",
    "    the size of the embedding and LSTM layers, the dropout rate, the number of epochs, the batch_size, and the \n",
    "    filename to save the model to.'''\n",
    "    model = Sequential()\n",
    "    \n",
    "    model.add(Embedding(max(id_dict.values()) + 2, embedding_size, mask_zero=True, \n",
    "                        input_length=len(max(sequence, key=len))))\n",
    "    model.add(LSTM(lstm_size, activation='tanh', recurrent_activation='sigmoid', dropout=dropout, use_bias=True, \n",
    "                   unit_forget_bias=True))\n",
    "    model.add(Dense(1, activation='sigmoid', use_bias=True))\n",
    "    model.add(Dropout(0.2))\n",
    "    \n",
    "    adam = optimizers.Adam(learning_rate=0.0001)\n",
    "    \n",
    "    model.compile(optimizer=adam, loss='binary_crossentropy', metrics=['accuracy'])\n",
    "    \n",
    "    es = EarlyStopping(monitor=('val_accuracy'), mode='max', verbose=1, patience=10)\n",
    "    mc = ModelCheckpoint(filename, monitor='val_accuracy', save_best_only=True)\n",
    "    \n",
    "    history = model.fit(x=sequence, y=y, batch_size=batch_size, epochs=epochs, \n",
    "                        verbose=1, validation_split=.2, callbacks=[es, mc])\n",
    "    \n",
    "    plt.plot(history.history['accuracy'], label='train')\n",
    "    plt.plot(history.history['val_accuracy'], label='test')\n",
    "    plt.legend()\n",
    "    plt.show()\n",
    "    \n",
    "y = train_labels\n",
    "embedding_size = 100\n",
    "LSTM_size = 128\n",
    "dropout = .2\n",
    "epochs = 50\n",
    "batch_size = 100\n",
    "\n",
    "build_train_model(sequence_tokens, y, id_dict_tokens, embedding_size, LSTM_size,\n",
    "                  dropout, epochs, batch_size, 'models/token.h5')\n",
    "build_train_model(sequence_preprocess, y, id_dict_preprocess, embedding_size, LSTM_size, dropout, epochs, \n",
    "                  batch_size, 'models/preprocess.h5')\n",
    "build_train_model(sequence_w_stopwords, y, id_dict_stopwords, embedding_size, LSTM_size, dropout, epochs, \n",
    "                  batch_size, 'models/stopwords.h5')"
   ]
  },
  {
   "cell_type": "markdown",
   "metadata": {},
   "source": [
    "The RNN models seem extremely promising, with all 3 achieving a validation accuracy of 96%, a huge boost over the other machine learning models. Note that this does not compare directly with the other models validation scores as I have used accuracy instead of f1 score. The reason for this is it is difficult to implement f1 score in keras, however I will evaluate the f1 score on the test data to get a comparison against the traditional machine learning models.\n",
    "\n",
    "The models did not gain any benefit from weighting the instances by their label confidence. However, balancing the dataset leads to highly inflated validation accuracy (as there are duplicate instances in the validation set) but no real affect on the test accuracy, which leads me to believe we should not be balancing the training data.\n",
    "\n",
    "The model is very easily scalable and would likely continue to improve with larger data sources. The RNN's can be scaled to larger vocabularies by increasing the size of the embedding layer and can be scaled to more instances by increasing the size of the LSTM layer."
   ]
  },
  {
   "cell_type": "code",
   "execution_count": null,
   "metadata": {},
   "outputs": [],
   "source": [
    "from sklearn.metrics import f1_score\n",
    "from keras.models import load_model\n",
    "\n",
    "print('Multinomial NB:', f1_score(test_labels, multi_cv['estimator'][0].predict(test_matrix.toarray())))\n",
    "print('Gaussian NB:', f1_score(test_labels, gauss_cv['estimator'][0].predict(test_matrix.toarray())))\n",
    "print('Gradient Boosted:', f1_score(test_labels, gb_cv['estimator'][0].predict(test_matrix.toarray())))\n",
    "\n",
    "token_model = load_model('models/token.h5')\n",
    "preprocess_model = load_model('models/preprocess.h5')\n",
    "stopword_model = load_model('models/stopwords.h5')\n",
    "\n",
    "print('RNN with tokens:', f1_score(test_labels, pd.Series(token_model.predict(test_token_sequence).flatten()).map(round)))\n",
    "print('RNN with preprocessed:', f1_score(test_labels, pd.Series(preprocess_model.predict(test_pre_sequence).flatten()).map(round)))\n",
    "print('RNN with stopwords:', f1_score(test_labels, pd.Series(stopword_model.predict(test_stop_sequence).flatten()).map(round)))"
   ]
  },
  {
   "cell_type": "markdown",
   "metadata": {},
   "source": [
    "On the test data, the RNN model with stopwords performs best, beating out other models by almost 4 percentage points. All 3 RNN models outperform all 3 traditional machine learning models, indicating that the RNN models are likely superior."
   ]
  },
  {
   "cell_type": "code",
   "execution_count": null,
   "metadata": {},
   "outputs": [],
   "source": [
    "models = ['Multinomial NB', 'Gaussian NB', 'Gradient Boosted', 'Token RNN', 'Rare Word RNN', 'Stopword RNN']\n",
    "scores = [f1_score(test_labels, multi_cv['estimator'][0].predict(test_matrix.toarray())),\n",
    "          f1_score(test_labels, gauss_cv['estimator'][0].predict(test_matrix.toarray())),\n",
    "          f1_score(test_labels, gb_cv['estimator'][0].predict(test_matrix.toarray())),\n",
    "          f1_score(test_labels, pd.Series(token_model.predict(test_token_sequence).flatten()).map(round)),\n",
    "          f1_score(test_labels, pd.Series(preprocess_model.predict(test_pre_sequence).flatten()).map(round)),\n",
    "          f1_score(test_labels, pd.Series(stopword_model.predict(test_stop_sequence).flatten()).map(round))]\n",
    "score_model_df = pd.DataFrame({'Model':models,'F1 Score':scores})"
   ]
  },
  {
   "cell_type": "code",
   "execution_count": null,
   "metadata": {},
   "outputs": [],
   "source": [
    "sns.barplot(x='Model', y='F1 Score', data=score_model_df)\n",
    "plt.xticks(rotation=45)"
   ]
  }
 ],
 "metadata": {
  "kernelspec": {
   "display_name": "Python 3",
   "language": "python",
   "name": "python3"
  },
  "language_info": {
   "codemirror_mode": {
    "name": "ipython",
    "version": 3
   },
   "file_extension": ".py",
   "mimetype": "text/x-python",
   "name": "python",
   "nbconvert_exporter": "python",
   "pygments_lexer": "ipython3",
   "version": "3.7.3"
  }
 },
 "nbformat": 4,
 "nbformat_minor": 2
}
