{
 "cells": [
  {
   "cell_type": "markdown",
   "metadata": {},
   "source": [
    "# Sentiment Analysis"
   ]
  },
  {
   "cell_type": "markdown",
   "metadata": {},
   "source": [
    "## --- Define the Problem ---\n",
    "\n",
    "I will be examining tweets about airlines that reflect either good, neutral, or bad sentiment towards the airline. This has high practical importance to companies as it would allow them to automatically detect both good and bad feedback from a variety of sources (tweets, reviews, facebook, etc.) and potentially either respond to individual negative criticisms or enact changes if there is a pattern in the negative feedback. The goal is to develop a model that can accurately predict the sentiment of said tweets in order to provide a starting point for customer service intervention or policy change."
   ]
  },
  {
   "cell_type": "markdown",
   "metadata": {},
   "source": [
    "## Load the Data"
   ]
  },
  {
   "cell_type": "code",
   "execution_count": 1,
   "metadata": {},
   "outputs": [],
   "source": [
    "import numpy as np\n",
    "import pandas as pd\n",
    "import matplotlib.pyplot as plt\n",
    "import seaborn as sns\n",
    "from EDAhelperfunctions import *"
   ]
  },
  {
   "cell_type": "code",
   "execution_count": 2,
   "metadata": {},
   "outputs": [],
   "source": [
    "df = pd.read_csv('data/twitter-airline-sentiment/Tweets.csv')"
   ]
  },
  {
   "cell_type": "markdown",
   "metadata": {},
   "source": [
    "## --- EDA ---"
   ]
  },
  {
   "cell_type": "code",
   "execution_count": 3,
   "metadata": {},
   "outputs": [
    {
     "name": "stdout",
     "output_type": "stream",
     "text": [
      "The dataframe:\n",
      "              tweet_id airline_sentiment  airline_sentiment_confidence  \\\n",
      "0  570306133677760513           neutral                        1.0000   \n",
      "1  570301130888122368          positive                        0.3486   \n",
      "2  570301083672813571           neutral                        0.6837   \n",
      "3  570301031407624196          negative                        1.0000   \n",
      "4  570300817074462722          negative                        1.0000   \n",
      "\n",
      "  negativereason  negativereason_confidence         airline  \\\n",
      "0            NaN                        NaN  Virgin America   \n",
      "1            NaN                     0.0000  Virgin America   \n",
      "2            NaN                        NaN  Virgin America   \n",
      "3     Bad Flight                     0.7033  Virgin America   \n",
      "4     Can't Tell                     1.0000  Virgin America   \n",
      "\n",
      "  airline_sentiment_gold        name negativereason_gold  retweet_count  \\\n",
      "0                    NaN     cairdin                 NaN              0   \n",
      "1                    NaN    jnardino                 NaN              0   \n",
      "2                    NaN  yvonnalynn                 NaN              0   \n",
      "3                    NaN    jnardino                 NaN              0   \n",
      "4                    NaN    jnardino                 NaN              0   \n",
      "\n",
      "                                                text tweet_coord  \\\n",
      "0                @VirginAmerica What @dhepburn said.         NaN   \n",
      "1  @VirginAmerica plus you've added commercials t...         NaN   \n",
      "2  @VirginAmerica I didn't today... Must mean I n...         NaN   \n",
      "3  @VirginAmerica it's really aggressive to blast...         NaN   \n",
      "4  @VirginAmerica and it's a really big bad thing...         NaN   \n",
      "\n",
      "               tweet_created tweet_location               user_timezone  \n",
      "0  2015-02-24 11:35:52 -0800            NaN  Eastern Time (US & Canada)  \n",
      "1  2015-02-24 11:15:59 -0800            NaN  Pacific Time (US & Canada)  \n",
      "2  2015-02-24 11:15:48 -0800      Lets Play  Central Time (US & Canada)  \n",
      "3  2015-02-24 11:15:36 -0800            NaN  Pacific Time (US & Canada)  \n",
      "4  2015-02-24 11:14:45 -0800            NaN  Pacific Time (US & Canada)  \n",
      "Info:\n",
      "\n",
      "<class 'pandas.core.frame.DataFrame'>\n",
      "RangeIndex: 14640 entries, 0 to 14639\n",
      "Data columns (total 15 columns):\n",
      " #   Column                        Non-Null Count  Dtype  \n",
      "---  ------                        --------------  -----  \n",
      " 0   tweet_id                      14640 non-null  int64  \n",
      " 1   airline_sentiment             14640 non-null  object \n",
      " 2   airline_sentiment_confidence  14640 non-null  float64\n",
      " 3   negativereason                9178 non-null   object \n",
      " 4   negativereason_confidence     10522 non-null  float64\n",
      " 5   airline                       14640 non-null  object \n",
      " 6   airline_sentiment_gold        40 non-null     object \n",
      " 7   name                          14640 non-null  object \n",
      " 8   negativereason_gold           32 non-null     object \n",
      " 9   retweet_count                 14640 non-null  int64  \n",
      " 10  text                          14640 non-null  object \n",
      " 11  tweet_coord                   1019 non-null   object \n",
      " 12  tweet_created                 14640 non-null  object \n",
      " 13  tweet_location                9907 non-null   object \n",
      " 14  user_timezone                 9820 non-null   object \n",
      "dtypes: float64(2), int64(2), object(11)\n",
      "memory usage: 1.7+ MB\n",
      "Number of duplicates:\n",
      " 36\n",
      "Column Names:\n",
      " Index(['tweet_id', 'airline_sentiment', 'airline_sentiment_confidence',\n",
      "       'negativereason', 'negativereason_confidence', 'airline',\n",
      "       'airline_sentiment_gold', 'name', 'negativereason_gold',\n",
      "       'retweet_count', 'text', 'tweet_coord', 'tweet_created',\n",
      "       'tweet_location', 'user_timezone'],\n",
      "      dtype='object')\n",
      "Describe:\n",
      "            tweet_id  airline_sentiment_confidence  negativereason_confidence  \\\n",
      "count  1.464000e+04                  14640.000000               10522.000000   \n",
      "mean   5.692184e+17                      0.900169                   0.638298   \n",
      "std    7.791112e+14                      0.162830                   0.330440   \n",
      "min    5.675883e+17                      0.335000                   0.000000   \n",
      "25%    5.685592e+17                      0.692300                   0.360600   \n",
      "50%    5.694779e+17                      1.000000                   0.670600   \n",
      "75%    5.698905e+17                      1.000000                   1.000000   \n",
      "max    5.703106e+17                      1.000000                   1.000000   \n",
      "\n",
      "       retweet_count  \n",
      "count   14640.000000  \n",
      "mean        0.082650  \n",
      "std         0.745778  \n",
      "min         0.000000  \n",
      "25%         0.000000  \n",
      "50%         0.000000  \n",
      "75%         0.000000  \n",
      "max        44.000000  \n",
      "Describe:\n",
      "        airline_sentiment          negativereason airline  \\\n",
      "count              14640                    9178   14640   \n",
      "unique                 3                      10       6   \n",
      "top             negative  Customer Service Issue  United   \n",
      "freq                9178                    2910    3822   \n",
      "\n",
      "       airline_sentiment_gold         name     negativereason_gold  \\\n",
      "count                      40        14640                      32   \n",
      "unique                      3         7701                      13   \n",
      "top                  negative  JetBlueNews  Customer Service Issue   \n",
      "freq                       32           63                      12   \n",
      "\n",
      "                  text tweet_coord              tweet_created tweet_location  \\\n",
      "count            14640        1019                      14640           9907   \n",
      "unique           14427         832                      14247           3081   \n",
      "top     @united thanks  [0.0, 0.0]  2015-02-24 09:54:34 -0800     Boston, MA   \n",
      "freq                 6         164                          5            157   \n",
      "\n",
      "                     user_timezone  \n",
      "count                         9820  \n",
      "unique                          85  \n",
      "top     Eastern Time (US & Canada)  \n",
      "freq                          3744  \n",
      "Data Types:\n",
      " tweet_id                          int64\n",
      "airline_sentiment                object\n",
      "airline_sentiment_confidence    float64\n",
      "negativereason                   object\n",
      "negativereason_confidence       float64\n",
      "airline                          object\n",
      "airline_sentiment_gold           object\n",
      "name                             object\n",
      "negativereason_gold              object\n",
      "retweet_count                     int64\n",
      "text                             object\n",
      "tweet_coord                      object\n",
      "tweet_created                    object\n",
      "tweet_location                   object\n",
      "user_timezone                    object\n",
      "dtype: object\n"
     ]
    }
   ],
   "source": [
    "basic_eda(df)"
   ]
  },
  {
   "cell_type": "markdown",
   "metadata": {},
   "source": [
    "There is a lot of information here! Each instance is a tweet that has a text, location, sentiment, and other information about name, retweets, airline, etc.\n",
    "\n",
    "Some of these columns seem unrelated to the base goal. Since our goal is to predict sentiment based on the text of the tweet, information such as timezone, location, time of tweet should likely be removed during cleaning. We also see that a confidence level is assigned to the sentiment of each tweet; it may be wise to discard instances that have very low confidence as it is possible that these instances are not correct and will mislead the model. We could also give each instance a weight based on its confidence. Retweets are potentially useful to order tweets by popularity and therefore importance.\n",
    "\n",
    "Some columns are mostly null and should be dropped. It seems that the most important columns such as sentiment and text have no null values which is good. I will split out the negative reason and confidence columns as this is a secondary classification task that can be added in once I have achieved the primary goal of a sentiment classifier.\n",
    "\n",
    "There are 36 duplicate instances but they may actually be valid data points. For instance, there are 6 instances of the text @united thanks, which may be 6 valid instances. We will examine duplicates closely.\n",
    "\n",
    "All columns appear to be appropriate data types."
   ]
  },
  {
   "cell_type": "code",
   "execution_count": 4,
   "metadata": {},
   "outputs": [
    {
     "data": {
      "image/png": "[encoded data removed]",
      "text/plain": [
       "<Figure size 432x288 with 1 Axes>"
      ]
     },
     "metadata": {
      "needs_background": "light"
     },
     "output_type": "display_data"
    },
    {
     "data": {
      "text/html": [
       "<div>\n",
       "<style scoped>\n",
       "    .dataframe tbody tr th:only-of-type {\n",
       "        vertical-align: middle;\n",
       "    }\n",
       "\n",
       "    .dataframe tbody tr th {\n",
       "        vertical-align: top;\n",
       "    }\n",
       "\n",
       "    .dataframe thead th {\n",
       "        text-align: right;\n",
       "    }\n",
       "</style>\n",
       "<table border=\"1\" class=\"dataframe\">\n",
       "  <thead>\n",
       "    <tr style=\"text-align: right;\">\n",
       "      <th></th>\n",
       "      <th>tweet_id</th>\n",
       "      <th>airline_sentiment</th>\n",
       "      <th>airline_sentiment_confidence</th>\n",
       "      <th>negativereason</th>\n",
       "      <th>negativereason_confidence</th>\n",
       "      <th>airline</th>\n",
       "      <th>airline_sentiment_gold</th>\n",
       "      <th>name</th>\n",
       "      <th>negativereason_gold</th>\n",
       "      <th>retweet_count</th>\n",
       "      <th>text</th>\n",
       "      <th>tweet_coord</th>\n",
       "      <th>tweet_created</th>\n",
       "      <th>tweet_location</th>\n",
       "      <th>user_timezone</th>\n",
       "    </tr>\n",
       "  </thead>\n",
       "  <tbody>\n",
       "    <tr>\n",
       "      <th>0</th>\n",
       "      <td>570306133677760513</td>\n",
       "      <td>neutral</td>\n",
       "      <td>1.0000</td>\n",
       "      <td>NaN</td>\n",
       "      <td>NaN</td>\n",
       "      <td>Virgin America</td>\n",
       "      <td>NaN</td>\n",
       "      <td>cairdin</td>\n",
       "      <td>NaN</td>\n",
       "      <td>0</td>\n",
       "      <td>@VirginAmerica What @dhepburn said.</td>\n",
       "      <td>NaN</td>\n",
       "      <td>2015-02-24 11:35:52 -0800</td>\n",
       "      <td>NaN</td>\n",
       "      <td>Eastern Time (US &amp; Canada)</td>\n",
       "    </tr>\n",
       "    <tr>\n",
       "      <th>1</th>\n",
       "      <td>570301130888122368</td>\n",
       "      <td>positive</td>\n",
       "      <td>0.3486</td>\n",
       "      <td>NaN</td>\n",
       "      <td>0.0000</td>\n",
       "      <td>Virgin America</td>\n",
       "      <td>NaN</td>\n",
       "      <td>jnardino</td>\n",
       "      <td>NaN</td>\n",
       "      <td>0</td>\n",
       "      <td>@VirginAmerica plus you've added commercials t...</td>\n",
       "      <td>NaN</td>\n",
       "      <td>2015-02-24 11:15:59 -0800</td>\n",
       "      <td>NaN</td>\n",
       "      <td>Pacific Time (US &amp; Canada)</td>\n",
       "    </tr>\n",
       "    <tr>\n",
       "      <th>2</th>\n",
       "      <td>570301083672813571</td>\n",
       "      <td>neutral</td>\n",
       "      <td>0.6837</td>\n",
       "      <td>NaN</td>\n",
       "      <td>NaN</td>\n",
       "      <td>Virgin America</td>\n",
       "      <td>NaN</td>\n",
       "      <td>yvonnalynn</td>\n",
       "      <td>NaN</td>\n",
       "      <td>0</td>\n",
       "      <td>@VirginAmerica I didn't today... Must mean I n...</td>\n",
       "      <td>NaN</td>\n",
       "      <td>2015-02-24 11:15:48 -0800</td>\n",
       "      <td>Lets Play</td>\n",
       "      <td>Central Time (US &amp; Canada)</td>\n",
       "    </tr>\n",
       "    <tr>\n",
       "      <th>3</th>\n",
       "      <td>570301031407624196</td>\n",
       "      <td>negative</td>\n",
       "      <td>1.0000</td>\n",
       "      <td>Bad Flight</td>\n",
       "      <td>0.7033</td>\n",
       "      <td>Virgin America</td>\n",
       "      <td>NaN</td>\n",
       "      <td>jnardino</td>\n",
       "      <td>NaN</td>\n",
       "      <td>0</td>\n",
       "      <td>@VirginAmerica it's really aggressive to blast...</td>\n",
       "      <td>NaN</td>\n",
       "      <td>2015-02-24 11:15:36 -0800</td>\n",
       "      <td>NaN</td>\n",
       "      <td>Pacific Time (US &amp; Canada)</td>\n",
       "    </tr>\n",
       "    <tr>\n",
       "      <th>4</th>\n",
       "      <td>570300817074462722</td>\n",
       "      <td>negative</td>\n",
       "      <td>1.0000</td>\n",
       "      <td>Can't Tell</td>\n",
       "      <td>1.0000</td>\n",
       "      <td>Virgin America</td>\n",
       "      <td>NaN</td>\n",
       "      <td>jnardino</td>\n",
       "      <td>NaN</td>\n",
       "      <td>0</td>\n",
       "      <td>@VirginAmerica and it's a really big bad thing...</td>\n",
       "      <td>NaN</td>\n",
       "      <td>2015-02-24 11:14:45 -0800</td>\n",
       "      <td>NaN</td>\n",
       "      <td>Pacific Time (US &amp; Canada)</td>\n",
       "    </tr>\n",
       "  </tbody>\n",
       "</table>\n",
       "</div>"
      ],
      "text/plain": [
       "             tweet_id airline_sentiment  airline_sentiment_confidence  \\\n",
       "0  570306133677760513           neutral                        1.0000   \n",
       "1  570301130888122368          positive                        0.3486   \n",
       "2  570301083672813571           neutral                        0.6837   \n",
       "3  570301031407624196          negative                        1.0000   \n",
       "4  570300817074462722          negative                        1.0000   \n",
       "\n",
       "  negativereason  negativereason_confidence         airline  \\\n",
       "0            NaN                        NaN  Virgin America   \n",
       "1            NaN                     0.0000  Virgin America   \n",
       "2            NaN                        NaN  Virgin America   \n",
       "3     Bad Flight                     0.7033  Virgin America   \n",
       "4     Can't Tell                     1.0000  Virgin America   \n",
       "\n",
       "  airline_sentiment_gold        name negativereason_gold  retweet_count  \\\n",
       "0                    NaN     cairdin                 NaN              0   \n",
       "1                    NaN    jnardino                 NaN              0   \n",
       "2                    NaN  yvonnalynn                 NaN              0   \n",
       "3                    NaN    jnardino                 NaN              0   \n",
       "4                    NaN    jnardino                 NaN              0   \n",
       "\n",
       "                                                text tweet_coord  \\\n",
       "0                @VirginAmerica What @dhepburn said.         NaN   \n",
       "1  @VirginAmerica plus you've added commercials t...         NaN   \n",
       "2  @VirginAmerica I didn't today... Must mean I n...         NaN   \n",
       "3  @VirginAmerica it's really aggressive to blast...         NaN   \n",
       "4  @VirginAmerica and it's a really big bad thing...         NaN   \n",
       "\n",
       "               tweet_created tweet_location               user_timezone  \n",
       "0  2015-02-24 11:35:52 -0800            NaN  Eastern Time (US & Canada)  \n",
       "1  2015-02-24 11:15:59 -0800            NaN  Pacific Time (US & Canada)  \n",
       "2  2015-02-24 11:15:48 -0800      Lets Play  Central Time (US & Canada)  \n",
       "3  2015-02-24 11:15:36 -0800            NaN  Pacific Time (US & Canada)  \n",
       "4  2015-02-24 11:14:45 -0800            NaN  Pacific Time (US & Canada)  "
      ]
     },
     "execution_count": 4,
     "metadata": {},
     "output_type": "execute_result"
    }
   ],
   "source": [
    "import os\n",
    "\n",
    "if not(os.path.exists('figures')):\n",
    "    os.mkdir('figures')\n",
    "\n",
    "fig = plt.figure()\n",
    "sns.countplot(x = 'airline_sentiment', data = df)\n",
    "plt.show()\n",
    "fig.savefig('figures/sentiment_labels.png')\n",
    "\n",
    "df.head()"
   ]
  },
  {
   "cell_type": "markdown",
   "metadata": {},
   "source": [
    "We have many more instances of the negative class, which makes sense as people are most likely to speak out when they have had a strong negative experience. "
   ]
  },
  {
   "cell_type": "code",
   "execution_count": 5,
   "metadata": {},
   "outputs": [
    {
     "name": "stdout",
     "output_type": "stream",
     "text": [
      "186\n",
      "@united done\n"
     ]
    }
   ],
   "source": [
    "print(len(max(df['text'], key = len)))\n",
    "print(min(df['text'], key = len))"
   ]
  },
  {
   "cell_type": "code",
   "execution_count": 6,
   "metadata": {},
   "outputs": [
    {
     "data": {
      "image/png": "[encoded data removed]",
      "text/plain": [
       "<Figure size 432x288 with 1 Axes>"
      ]
     },
     "metadata": {
      "needs_background": "light"
     },
     "output_type": "display_data"
    }
   ],
   "source": [
    "from wordcloud import WordCloud, STOPWORDS\n",
    "\n",
    "pos = df.loc[df['airline_sentiment'] == 'positive']\n",
    "neut = df.loc[df['airline_sentiment'] == 'neutral']\n",
    "neg = df.loc[df['airline_sentiment'] == 'negative']\n",
    "\n",
    "pos_text = ''.join([tweet for tweet in pos['text']])\n",
    "neut_text = ''.join([tweet for tweet in neut['text']])\n",
    "neg_text = ''.join([tweet for tweet in neg['text']])\n",
    "\n",
    "fig = WordCloud(background_color = 'white', max_words = 100, stopwords = STOPWORDS.update(\n",
    "    ['united', 'JetBlue', 'SouthwestAir', 'AmericanAir', 'USAirway', 'VirginAmerica', 'USAirways', 'flight']))\n",
    "\n",
    "\n",
    "pic = plt.figure()\n",
    "plt.imshow(fig.generate(pos_text))\n",
    "plt.axis('off')\n",
    "plt.show()\n",
    "pic.savefig('figures/pos_wordcloud.png')"
   ]
  },
  {
   "cell_type": "code",
   "execution_count": 7,
   "metadata": {},
   "outputs": [
    {
     "data": {
      "image/png": "[encoded data removed]",
      "text/plain": [
       "<Figure size 432x288 with 1 Axes>"
      ]
     },
     "metadata": {
      "needs_background": "light"
     },
     "output_type": "display_data"
    }
   ],
   "source": [
    "fig2 = WordCloud(background_color = 'white', max_words = 100, stopwords = STOPWORDS.update(\n",
    "    ['united', 'JetBlue', 'SouthwestAir', 'AmericanAir', 'USAirway', 'VirginAmerica', 'USAirways', 'flight']))\n",
    "pic2 = plt.figure()\n",
    "plt.imshow(fig2.generate(neut_text))\n",
    "plt.axis('off')\n",
    "plt.show()\n",
    "pic2.savefig('figures/neut_wordcloud.png')"
   ]
  },
  {
   "cell_type": "code",
   "execution_count": 8,
   "metadata": {},
   "outputs": [
    {
     "data": {
      "image/png": "[encoded data removed]",
      "text/plain": [
       "<Figure size 432x288 with 1 Axes>"
      ]
     },
     "metadata": {
      "needs_background": "light"
     },
     "output_type": "display_data"
    }
   ],
   "source": [
    "fig3 = WordCloud(background_color = 'white', max_words = 100, stopwords = STOPWORDS.update(\n",
    "    ['united', 'JetBlue', 'SouthwestAir', 'AmericanAir', 'USAirway', 'VirginAmerica', 'USAirways', 'flight']))\n",
    "\n",
    "pic3 = plt.figure()\n",
    "plt.imshow(fig3.generate(neg_text))\n",
    "plt.axis('off')\n",
    "plt.show()\n",
    "pic3.savefig('figures/neg_wordcloud.png')"
   ]
  },
  {
   "cell_type": "markdown",
   "metadata": {},
   "source": [
    "We see clear differences in the word clouds for different classes. The positive class has words like thank, great, and awesome, whereas the negative class has words like now, time, and customer service. These differences hopefully mean that we will be able to use these tweets to correctly classify sentiment."
   ]
  },
  {
   "cell_type": "markdown",
   "metadata": {},
   "source": [
    "## --- Baseline ---"
   ]
  },
  {
   "cell_type": "code",
   "execution_count": 9,
   "metadata": {},
   "outputs": [],
   "source": [
    "df.loc[df['airline_sentiment'] != 'neutral', 'airline_sentiment'].value_counts(normalize = True)\n",
    "\n",
    "##Remove the neutral class\n",
    "df = df.loc[df['airline_sentiment'] != 'neutral',]"
   ]
  },
  {
   "cell_type": "markdown",
   "metadata": {},
   "source": [
    "I will be using f1 score as a metric for this project as the classes are unbalanced so accuracy paints a biased picture. F1 score will always be 50% for random guessing, so our baseline f1 score will be 50%.\n",
    "\n",
    "I have included the option to balance the dataset (i.e. generate more positive examples in order to have the classes equally represented), but this will not affect the baseline f1 score.\n",
    "\n",
    "I will not be using the neutral class for this classification as it seems to have little business impact. We would like to be able to know when people are saying good things or bad things about our company, but it shouldn't matter too much if people are saying neutral things about the company."
   ]
  },
  {
   "cell_type": "markdown",
   "metadata": {},
   "source": [
    "## --- Clean ---"
   ]
  },
  {
   "cell_type": "code",
   "execution_count": 10,
   "metadata": {},
   "outputs": [
    {
     "data": {
      "text/plain": [
       "(9232, 15)"
      ]
     },
     "execution_count": 10,
     "metadata": {},
     "output_type": "execute_result"
    }
   ],
   "source": [
    "from sklearn.model_selection import train_test_split\n",
    "import random\n",
    "\n",
    "#Split out labels and create train/test sets\n",
    "train, test = train_test_split(df, test_size = .2, random_state = 42)\n",
    "\n",
    "##Boolean asking if you would like to balance the dataset\n",
    "##I am only balancing the training set as it may artificially inflate the accuracy to have rows in the test set that are \n",
    "##identical to rows in the training set.\n",
    "balance_dataset = False\n",
    "\n",
    "if balance_dataset:\n",
    "    pos = train.loc[df['airline_sentiment'] == 'positive']\n",
    "    neg = train.loc[df['airline_sentiment'] == 'negative']\n",
    "    new_pos = pos.sample(neg.shape[0], replace = True, axis = 0)\n",
    "    print(new_pos.shape, pos.shape, neg.shape)\n",
    "    train = neg.append(new_pos).sample(frac = 1)\n",
    "    \n",
    "train.shape"
   ]
  },
  {
   "cell_type": "code",
   "execution_count": 11,
   "metadata": {},
   "outputs": [],
   "source": [
    "def split_df(df, keep_cols, reason_cols, drop_cols):\n",
    "    df = df.drop_duplicates(subset = keep_cols)\n",
    "    keep_df = df[keep_cols]\n",
    "    reason_df = df[reason_cols]\n",
    "    drop_df = df[drop_cols]\n",
    "    return keep_df, reason_df, drop_df\n",
    "\n",
    "keep_cols = ['tweet_id', 'airline_sentiment', 'airline_sentiment_confidence', 'retweet_count', 'text']\n",
    "reason_cols = ['negativereason', 'negativereason_confidence']\n",
    "drop_cols = ['airline', 'airline_sentiment_gold', 'name', 'negativereason_gold', 'tweet_coord', \n",
    "             'tweet_created', 'tweet_location', 'user_timezone']"
   ]
  },
  {
   "cell_type": "markdown",
   "metadata": {},
   "source": [
    "It appears there is some issue with American Airlines and duplicate tweets. These tweets are in depth and unlikely to be repeated word for word, so these duplicates should be dropped."
   ]
  },
  {
   "cell_type": "code",
   "execution_count": 12,
   "metadata": {},
   "outputs": [
    {
     "name": "stdout",
     "output_type": "stream",
     "text": [
      "negative    7280\n",
      "positive    1911\n",
      "Name: airline_sentiment, dtype: int64\n",
      "negative    1861\n",
      "positive     446\n",
      "Name: airline_sentiment, dtype: int64\n"
     ]
    },
    {
     "data": {
      "text/plain": [
       "9498     @USAirways Another dead end.  They only handle...\n",
       "10811    @USAirways #2066. Was on plane from PBI to CLT...\n",
       "10831    @USAirways waiting for bags now over 25min in ...\n",
       "10193    @USAirways Never heard back, but this would he...\n",
       "1212                                       @united Thanks!\n",
       "Name: text, dtype: object"
      ]
     },
     "execution_count": 12,
     "metadata": {},
     "output_type": "execute_result"
    }
   ],
   "source": [
    "train_keep, train_reason, train_drop = split_df(train, keep_cols, reason_cols, drop_cols)\n",
    "test_keep, test_reason, test_drop = split_df(test, keep_cols, reason_cols, drop_cols)\n",
    "\n",
    "train_labels = train_keep.pop('airline_sentiment')\n",
    "test_labels = test_keep.pop('airline_sentiment')\n",
    "\n",
    "print(train_labels.value_counts())\n",
    "print(test_labels.value_counts())\n",
    "\n",
    "train_keep['text'].head()"
   ]
  },
  {
   "cell_type": "markdown",
   "metadata": {},
   "source": [
    "There are no numeric columns with range, meaning we do not need to search for outliers. Also, the columns we are currently working with have no NA values, so we do not need to consider dropping rows or imputing values."
   ]
  },
  {
   "cell_type": "markdown",
   "metadata": {},
   "source": [
    "Lastly, we remove the neutral class as it is not useful to our business case and will only serve to dilute our training power."
   ]
  },
  {
   "cell_type": "markdown",
   "metadata": {},
   "source": [
    "## --- Preprocess Text ---"
   ]
  },
  {
   "cell_type": "code",
   "execution_count": 13,
   "metadata": {},
   "outputs": [],
   "source": [
    "from nltk.tokenize import word_tokenize\n",
    "import contractions\n",
    "from nltk.corpus import stopwords\n",
    "from nltk.stem import WordNetLemmatizer"
   ]
  },
  {
   "cell_type": "code",
   "execution_count": 14,
   "metadata": {},
   "outputs": [],
   "source": [
    "from sklearn.base import BaseEstimator, TransformerMixin\n",
    "from string import punctuation\n",
    "\n",
    "class TextProcessor(BaseEstimator, TransformerMixin):\n",
    "    def __init__(self):\n",
    "        pass\n",
    "    def fit(self):\n",
    "        return self\n",
    "    def transform(self, corpus):\n",
    "        corpus = corpus.str.lower()\n",
    "        corpus = corpus.map(lambda x: ''.join(ch for ch in x if ch not in punctuation))\n",
    "        corpus = corpus.map(lambda x: contractions.fix(x))\n",
    "        corpus = corpus.map(word_tokenize)\n",
    "        corpus = corpus.map(lambda x: [w for w in x if w not in stopwords.words('english')])\n",
    "        lem = WordNetLemmatizer()\n",
    "        corpus = corpus.map(lambda x: [lem.lemmatize(w, pos = 'n') for w in x])\n",
    "        corpus = corpus.map(lambda x: [lem.lemmatize(w, pos = 'v') for w in x])\n",
    "        corpus = corpus.map(lambda x: [lem.lemmatize(w, pos = 'a') for w in x])\n",
    "        return corpus"
   ]
  },
  {
   "cell_type": "code",
   "execution_count": 15,
   "metadata": {},
   "outputs": [
    {
     "data": {
      "text/plain": [
       "9498     [usairways, another, dead, end, handle, aa, la...\n",
       "10811    [usairways, 2066, plane, pbi, clt, know, freez...\n",
       "10831       [usairways, wait, bag, 25min, phl, bag, claim]\n",
       "10193    [usairways, never, hear, back, would, help, ch...\n",
       "1212                                        [unite, thank]\n",
       "Name: text, dtype: object"
      ]
     },
     "execution_count": 15,
     "metadata": {},
     "output_type": "execute_result"
    }
   ],
   "source": [
    "processor = TextProcessor()\n",
    "train_preprocessed = train_keep.copy()\n",
    "test_preprocessed = test_keep.copy()\n",
    "train_tokens = processor.transform(train_keep['text'])\n",
    "train_preprocessed['text'] = train_tokens\n",
    "test_tokens = processor.transform(test_keep['text'])\n",
    "test_preprocessed['text'] = test_tokens\n",
    "train_preprocessed['text'].head()"
   ]
  },
  {
   "cell_type": "markdown",
   "metadata": {},
   "source": [
    "Here we see that our text has been nicely normalized as it is all lowercase, has no punctuation, and has been split into individual tokens and lemmatized into the root words. We have also removed some common English words with little to no predictive power."
   ]
  },
  {
   "cell_type": "markdown",
   "metadata": {},
   "source": [
    "## --- Feature Extraction ---"
   ]
  },
  {
   "cell_type": "code",
   "execution_count": 16,
   "metadata": {},
   "outputs": [
    {
     "name": "stdout",
     "output_type": "stream",
     "text": [
      "Positive words:\n",
      "                word  count     ratio\n",
      "10089          thank   1151  0.400144\n",
      "8721         jetblue   1218  0.126681\n",
      "6633    southwestair   1418  0.100530\n",
      "9362           great    245  0.084602\n",
      "2681            love    172  0.054330\n",
      "6978   virginamerica    267  0.044584\n",
      "6142         awesome     90  0.040489\n",
      "2350            best    129  0.035793\n",
      "9680            much    162  0.035224\n",
      "3079           amaze     81  0.033798\n",
      "Negative words:\n",
      "             word  count     ratio\n",
      "3515         call    510 -0.050896\n",
      "1755          get   1320 -0.051171\n",
      "6477         hold    536 -0.067020\n",
      "6054        delay    695 -0.076308\n",
      "2576       cancel    717 -0.077348\n",
      "8398        unite   2544 -0.077924\n",
      "8926  americanair   1900 -0.080632\n",
      "5800         hour    840 -0.103493\n",
      "5150    usairways   2095 -0.132522\n",
      "122        flight   2540 -0.144100\n"
     ]
    },
    {
     "data": {
      "image/png": "[encoded data removed]",
      "text/plain": [
       "<Figure size 432x288 with 1 Axes>"
      ]
     },
     "metadata": {
      "needs_background": "light"
     },
     "output_type": "display_data"
    }
   ],
   "source": [
    "def infrequent_words(word_df, threshhold):\n",
    "    return list(word_df.loc[word_df['count'] <= threshhold, 'word'])\n",
    "\n",
    "def noise_words(word_df, threshhold):\n",
    "    return list(word_df.loc[abs(word_df['ratio']) <= threshhold, 'word'])\n",
    "\n",
    "class RemoveNoise(BaseEstimator, TransformerMixin):\n",
    "    def __init__(self):\n",
    "        pass\n",
    "    \n",
    "    def calculate_word_df(self, X, y):\n",
    "        tokenlist = []\n",
    "        pos_tokens = X.loc[y == 'positive']\n",
    "        neg_tokens = X.loc[y == 'negative']\n",
    "        for token_list in X['text']:\n",
    "            tokenlist.extend(token_list)\n",
    "        all_tokens = list(set(tokenlist))\n",
    "        \n",
    "        pos_percent = {}\n",
    "        neg_percent = {}\n",
    "        token_count = []\n",
    "        ratio = []\n",
    "        for token in all_tokens:\n",
    "            token_count.append(sum(X['text'].map(lambda x: token in x)))\n",
    "            pos_percent[token] = np.mean(pos_tokens['text'].map(lambda x: token in x))\n",
    "            neg_percent[token] = np.mean(neg_tokens['text'].map(lambda x: token in x))\n",
    "            ratio.append(pos_percent[token] - neg_percent[token])\n",
    "    \n",
    "        word_df = pd.DataFrame({'word': all_tokens, 'count': token_count, 'ratio': ratio})\n",
    "        return word_df\n",
    "    \n",
    "    def fit(self, X, y, frequency_thresh, noise_thresh):\n",
    "        word_df = self.calculate_word_df(X, y)\n",
    "        infreq_list = infrequent_words(word_df, frequency_thresh)\n",
    "        noise_list = noise_words(word_df, noise_thresh)\n",
    "        self.infreq_list = infreq_list\n",
    "        self.noise_list = noise_list\n",
    "        return self\n",
    "    \n",
    "    def transform(self, X, y=None):\n",
    "        X['text'] = X['text'].map(lambda x: [w for w in x if w not in self.infreq_list])\n",
    "        X['text'] = X['text'].map(lambda x: [w for w in x if w not in self.noise_list])\n",
    "        return X\n",
    "\n",
    "train_tokens = train_preprocessed.copy()\n",
    "test_tokens = test_preprocessed.copy()\n",
    "noise_remover = RemoveNoise()\n",
    "noise_remover.fit(train_tokens, train_labels, 5, 0.002)\n",
    "noise_remover.transform(train_tokens)\n",
    "\n",
    "noise_remover.transform(test_tokens)\n",
    "word_df = noise_remover.calculate_word_df(train_preprocessed, train_labels)\n",
    "word_df.sort_values('ratio', inplace = True, ascending = False)\n",
    "sns.distplot(word_df['ratio'])\n",
    "print(\"Positive words:\")\n",
    "print(word_df.head(10))\n",
    "print(\"Negative words:\")\n",
    "print(word_df.tail(10))"
   ]
  },
  {
   "cell_type": "markdown",
   "metadata": {},
   "source": [
    "We see that finding the ratio of positive compared to negative reviews seems to have had a great effect! The most highly negative words are words we would expect to find in negative comments about airlines such as cancel and delay, along with airlines that receive more negative comments. The most positive words are words we would expect to be highly positive such as  love and great, alongisde airlines that receive mostly positive comments. Notice how there are a high number of words that have a ratio of 0, which means they are equally represented in the positive and negative reviews. These words are likely not informative to our models and may in fact obscure the important features, so I have removed them. I also removed very rare words, words that appeared less than 5 times in the dataset. This will guard against misspellings and other oddities in the data."
   ]
  },
  {
   "cell_type": "code",
   "execution_count": 17,
   "metadata": {},
   "outputs": [
    {
     "data": {
      "text/plain": [
       "Series([], Name: airline_sentiment, dtype: int64)"
      ]
     },
     "execution_count": 17,
     "metadata": {},
     "output_type": "execute_result"
    }
   ],
   "source": [
    "##This cell checks how many empty texts we have and what labels they are given.\n",
    "train_labels.loc[train_keep['text'].astype(str) == '[]'].value_counts()"
   ]
  },
  {
   "cell_type": "code",
   "execution_count": 18,
   "metadata": {},
   "outputs": [
    {
     "data": {
      "text/plain": [
       "matrix([[0., 0., 0., ..., 0., 0., 0.],\n",
       "        [0., 0., 0., ..., 0., 0., 0.],\n",
       "        [0., 0., 0., ..., 0., 0., 0.],\n",
       "        ...,\n",
       "        [0., 0., 0., ..., 0., 0., 0.],\n",
       "        [0., 0., 0., ..., 0., 0., 0.],\n",
       "        [0., 0., 0., ..., 0., 0., 0.]])"
      ]
     },
     "execution_count": 18,
     "metadata": {},
     "output_type": "execute_result"
    }
   ],
   "source": [
    "from sklearn.feature_extraction.text import TfidfVectorizer\n",
    "\n",
    "def dummy_tokenizer(doc):\n",
    "    return doc\n",
    "\n",
    "tfidf = TfidfVectorizer(analyzer = 'word', tokenizer = dummy_tokenizer, preprocessor = dummy_tokenizer, token_pattern = None)\n",
    "train_doc_word = tfidf.fit_transform(train_tokens['text'])\n",
    "test_doc_word = tfidf.transform(test_tokens['text'])\n",
    "train_doc_word.todense()"
   ]
  },
  {
   "cell_type": "markdown",
   "metadata": {},
   "source": [
    "Here I create the document term matrices using tfidf, which represents how commonly a term appears in a document but scaled by how often the term appears across all documents. The reason for this is words that appear in all documents are likely not predictive, so we give higher weight to rarer words."
   ]
  },
  {
   "cell_type": "code",
   "execution_count": 19,
   "metadata": {},
   "outputs": [],
   "source": [
    "##One hot encode targets\n",
    "\n",
    "train_labels.loc[train_labels == 'positive'] = 1\n",
    "train_labels.loc[train_labels == 'negative'] = 0\n",
    "train_labels = train_labels.astype('int')\n",
    "\n",
    "test_labels.loc[test_labels == 'positive'] = 1\n",
    "test_labels.loc[test_labels == 'negative'] = 0\n",
    "test_labels = test_labels.astype('int')"
   ]
  },
  {
   "cell_type": "code",
   "execution_count": 20,
   "metadata": {},
   "outputs": [],
   "source": [
    "from scipy import io\n",
    "import pickle\n",
    "\n",
    "##Save matrices and labels to disk\n",
    "def write_labels(filename, labels):\n",
    "    pickle.dump(labels, open(filename, 'wb'))\n",
    "\n",
    "def write_matrix(filename, mtx):\n",
    "    io.mmwrite(filename, mtx)\n",
    "    \n",
    "write_matrix('data/train_matrix.mtx', train_doc_word)\n",
    "write_matrix('data/test_matrix.mtx', test_doc_word)\n",
    "write_labels('data/train_labels.p', train_labels)\n",
    "write_labels('data/test_labels.p', test_labels)"
   ]
  },
  {
   "cell_type": "markdown",
   "metadata": {},
   "source": [
    "## --- Build Model ---"
   ]
  },
  {
   "cell_type": "code",
   "execution_count": 21,
   "metadata": {},
   "outputs": [
    {
     "name": "stderr",
     "output_type": "stream",
     "text": [
      "[Parallel(n_jobs=1)]: Using backend SequentialBackend with 1 concurrent workers.\n",
      "[Parallel(n_jobs=1)]: Done   1 out of   1 | elapsed:    0.1s remaining:    0.0s\n"
     ]
    },
    {
     "name": "stdout",
     "output_type": "stream",
     "text": [
      "[CV]  ................................................................\n",
      "[CV] .................................... , score=0.745, total=   0.2s\n",
      "[CV]  ................................................................\n"
     ]
    },
    {
     "name": "stderr",
     "output_type": "stream",
     "text": [
      "[Parallel(n_jobs=1)]: Done   2 out of   2 | elapsed:    0.1s remaining:    0.0s\n",
      "[Parallel(n_jobs=1)]: Done   3 out of   3 | elapsed:    0.2s remaining:    0.0s\n",
      "[Parallel(n_jobs=1)]: Done   4 out of   4 | elapsed:    0.2s remaining:    0.0s\n"
     ]
    },
    {
     "name": "stdout",
     "output_type": "stream",
     "text": [
      "[CV] .................................... , score=0.703, total=   0.0s\n",
      "[CV]  ................................................................\n",
      "[CV] .................................... , score=0.702, total=   0.0s\n",
      "[CV]  ................................................................\n",
      "[CV] .................................... , score=0.701, total=   0.0s\n",
      "[CV]  ................................................................\n",
      "[CV] .................................... , score=0.679, total=   0.0s\n",
      "0.7057238672890758\n",
      "[CV]  ................................................................\n"
     ]
    },
    {
     "name": "stderr",
     "output_type": "stream",
     "text": [
      "[Parallel(n_jobs=1)]: Done   5 out of   5 | elapsed:    0.3s finished\n",
      "[Parallel(n_jobs=1)]: Using backend SequentialBackend with 1 concurrent workers.\n"
     ]
    },
    {
     "name": "stdout",
     "output_type": "stream",
     "text": [
      "[CV] .................................... , score=0.505, total=   0.2s\n",
      "[CV]  ................................................................\n",
      "[CV] .................................... , score=0.475, total=   0.2s\n"
     ]
    },
    {
     "name": "stderr",
     "output_type": "stream",
     "text": [
      "[Parallel(n_jobs=1)]: Done   1 out of   1 | elapsed:    0.1s remaining:    0.0s\n",
      "[Parallel(n_jobs=1)]: Done   2 out of   2 | elapsed:    0.3s remaining:    0.0s\n"
     ]
    },
    {
     "name": "stdout",
     "output_type": "stream",
     "text": [
      "[CV]  ................................................................\n",
      "[CV] .................................... , score=0.489, total=   0.2s\n"
     ]
    },
    {
     "name": "stderr",
     "output_type": "stream",
     "text": [
      "[Parallel(n_jobs=1)]: Done   3 out of   3 | elapsed:    0.5s remaining:    0.0s\n",
      "[Parallel(n_jobs=1)]: Done   4 out of   4 | elapsed:    0.6s remaining:    0.0s\n"
     ]
    },
    {
     "name": "stdout",
     "output_type": "stream",
     "text": [
      "[CV]  ................................................................\n",
      "[CV] .................................... , score=0.491, total=   0.2s\n",
      "[CV]  ................................................................\n",
      "[CV] .................................... , score=0.472, total=   0.2s\n",
      "0.4864219454280863\n",
      "[CV]  ................................................................\n"
     ]
    },
    {
     "name": "stderr",
     "output_type": "stream",
     "text": [
      "[Parallel(n_jobs=1)]: Done   5 out of   5 | elapsed:    0.8s finished\n",
      "[Parallel(n_jobs=1)]: Using backend SequentialBackend with 1 concurrent workers.\n"
     ]
    },
    {
     "name": "stdout",
     "output_type": "stream",
     "text": [
      "[CV] .................................... , score=0.717, total=   2.4s\n",
      "[CV]  ................................................................\n"
     ]
    },
    {
     "name": "stderr",
     "output_type": "stream",
     "text": [
      "[Parallel(n_jobs=1)]: Done   1 out of   1 | elapsed:    2.3s remaining:    0.0s\n"
     ]
    },
    {
     "name": "stdout",
     "output_type": "stream",
     "text": [
      "[CV] .................................... , score=0.704, total=   2.3s\n",
      "[CV]  ................................................................\n"
     ]
    },
    {
     "name": "stderr",
     "output_type": "stream",
     "text": [
      "[Parallel(n_jobs=1)]: Done   2 out of   2 | elapsed:    4.6s remaining:    0.0s\n"
     ]
    },
    {
     "name": "stdout",
     "output_type": "stream",
     "text": [
      "[CV] .................................... , score=0.655, total=   2.2s\n",
      "[CV]  ................................................................\n"
     ]
    },
    {
     "name": "stderr",
     "output_type": "stream",
     "text": [
      "[Parallel(n_jobs=1)]: Done   3 out of   3 | elapsed:    6.8s remaining:    0.0s\n"
     ]
    },
    {
     "name": "stdout",
     "output_type": "stream",
     "text": [
      "[CV] .................................... , score=0.693, total=   2.2s\n",
      "[CV]  ................................................................\n"
     ]
    },
    {
     "name": "stderr",
     "output_type": "stream",
     "text": [
      "[Parallel(n_jobs=1)]: Done   4 out of   4 | elapsed:    9.0s remaining:    0.0s\n"
     ]
    },
    {
     "name": "stdout",
     "output_type": "stream",
     "text": [
      "[CV] .................................... , score=0.689, total=   2.2s\n",
      "0.6918499422323354\n"
     ]
    },
    {
     "name": "stderr",
     "output_type": "stream",
     "text": [
      "[Parallel(n_jobs=1)]: Done   5 out of   5 | elapsed:   11.2s finished\n"
     ]
    }
   ],
   "source": [
    "def load_matrix(filename):\n",
    "    return io.mmread(filename)\n",
    "\n",
    "def load_labels(filename):\n",
    "    return pickle.load(open(filename, 'rb'))\n",
    "\n",
    "train_matrix = load_matrix('data/train_matrix.mtx')\n",
    "test_matrix = load_matrix('data/test_matrix.mtx')\n",
    "\n",
    "from sklearn.naive_bayes import MultinomialNB\n",
    "from sklearn.naive_bayes import GaussianNB\n",
    "from sklearn.model_selection import cross_validate\n",
    "from sklearn.ensemble import GradientBoostingClassifier\n",
    "\n",
    "##This metric will evaluate both the ML and RNN models\n",
    "metric = 'f1'\n",
    "\n",
    "multi_clf = MultinomialNB()\n",
    "gauss_clf = GaussianNB()\n",
    "gb = GradientBoostingClassifier(max_depth = 5)\n",
    "\n",
    "multi_cv = cross_validate(multi_clf, train_matrix.toarray(), train_labels, scoring = metric, cv = 5, \n",
    "                          verbose = 5, return_estimator = True)\n",
    "print(multi_cv['test_score'].mean())\n",
    "\n",
    "gauss_cv = cross_validate(gauss_clf, train_matrix.toarray(), train_labels, scoring = metric, cv = 5, verbose = 5,\n",
    "                         return_estimator = True)\n",
    "print(gauss_cv['test_score'].mean())\n",
    "\n",
    "gb_cv = cross_validate(gb, train_matrix, train_labels, scoring = metric, cv = 5, verbose = 5, \n",
    "                       return_estimator = True)\n",
    "print(gb_cv['test_score'].mean())"
   ]
  },
  {
   "cell_type": "code",
   "execution_count": 79,
   "metadata": {},
   "outputs": [
    {
     "data": {
      "text/plain": [
       "<matplotlib.legend.Legend at 0x2c85d3a9588>"
      ]
     },
     "execution_count": 79,
     "metadata": {},
     "output_type": "execute_result"
    },
    {
     "data": {
      "image/png": "[encoded data removed]",
      "text/plain": [
       "<Figure size 432x288 with 1 Axes>"
      ]
     },
     "metadata": {
      "needs_background": "light"
     },
     "output_type": "display_data"
    }
   ],
   "source": [
    "x = [1,2,3,4,5,'mean',1,2,3,4,5,'mean',1,2,3,4,5,'mean']\n",
    "y = list(multi_cv['test_score']) + [multi_cv['test_score'].mean()] + list(gauss_cv['test_score']) + [gauss_cv['test_score'].mean()] + list(gb_cv['test_score']) + [gb_cv['test_score'].mean()]\n",
    "model_name = ['Multinomial NB']*6 + ['Gaussian NB']*6 + ['Gradient Boosted']*6\n",
    "\n",
    "models_df = pd.DataFrame({'Cross-validation Fold': x, 'F1 Score': y, 'model': model_name})\n",
    "sns.barplot(x = 'Cross-validation Fold', y = 'F1 Score', hue = 'model', data = models_df)\n",
    "plt.legend(bbox_to_anchor=(1.05, 1), loc = 2, borderaxespad = 0.)"
   ]
  },
  {
   "cell_type": "markdown",
   "metadata": {},
   "source": [
    "I attempted weighting the instances by the label confidence, but that appeared to have no effect on performance and only added model complexity. Also: these models seem to perform worse on the balanced dataset, and if selected should be trained on the original dataset.\n",
    "\n",
    "Somewhat surprisingly, the multinomial naive bayes model out-performed gradient boosting on this data! It achieved an f1 score of 70%, an increase of 20%."
   ]
  },
  {
   "cell_type": "markdown",
   "metadata": {},
   "source": [
    "## --- RNN Model ---"
   ]
  },
  {
   "cell_type": "code",
   "execution_count": 22,
   "metadata": {},
   "outputs": [
    {
     "name": "stderr",
     "output_type": "stream",
     "text": [
      "Using TensorFlow backend.\n"
     ]
    },
    {
     "name": "stdout",
     "output_type": "stream",
     "text": [
      "19\n",
      "577\n",
      "24\n",
      "10507\n",
      "36\n",
      "12393\n"
     ]
    }
   ],
   "source": [
    "from itertools import count\n",
    "from collections import defaultdict\n",
    "from keras.preprocessing.sequence import pad_sequences\n",
    "\n",
    "def word_to_id(token_list):\n",
    "    id_dict = defaultdict((count().__next__))\n",
    "    for token in token_list:\n",
    "        id_dict[token] = id_dict[token]\n",
    "    return id_dict\n",
    "\n",
    "def id_to_word(id_dict):\n",
    "    return {i:w for w, i in id_dict.items()}\n",
    "\n",
    "##Applying embedding after stopwords but before rare/useless words.\n",
    "train_orig = train_keep.copy()\n",
    "train_orig['text'] = train_orig['text'].str.lower()\n",
    "train_orig['text'] = train_orig['text'].map(lambda x: ''.join(ch for ch in x if ch not in punctuation))\n",
    "train_orig['text'] = train_orig['text'].map(lambda x: contractions.fix(x))\n",
    "train_orig['text'] = train_orig['text'].map(word_tokenize)\n",
    "\n",
    "test_orig = test_keep.copy()\n",
    "test_orig['text'] = test_orig['text'].str.lower()\n",
    "test_orig['text'] = test_orig['text'].map(lambda x: ''.join(ch for ch in x if ch not in punctuation))\n",
    "test_orig['text'] = test_orig['text'].map(lambda x: contractions.fix(x))\n",
    "test_orig['text'] = test_orig['text'].map(word_tokenize)\n",
    "\n",
    "def tokens_to_sequence(tokens):\n",
    "    tokenlist = []\n",
    "    for token in tokens['text']:\n",
    "        tokenlist.extend(token)\n",
    "    id_dict = word_to_id(list(set(tokenlist)))\n",
    "    print(len(max(tokens['text'], key = len)))\n",
    "    sequence_list = tokens['text'].map(lambda x: [id_dict[w] + 1 for w in x])\n",
    "    print(max(id_dict.values()))\n",
    "    return sequence_list, id_dict\n",
    "\n",
    "sequence_tokens, id_dict_tokens = tokens_to_sequence(train_tokens)\n",
    "sequence_preprocess, id_dict_preprocess = tokens_to_sequence(train_preprocessed)\n",
    "sequence_w_stopwords, id_dict_stopwords = tokens_to_sequence(train_orig)\n",
    "\n",
    "def test_token_update(tokens, id_dict):\n",
    "    sequence_list = tokens['text'].map(lambda x: [id_dict[w] + 1 if w in id_dict.keys() else 0 for w in x])\n",
    "    return sequence_list\n",
    "\n",
    "def pad_test_sequence(sequence, train_sequence):\n",
    "    return pad_sequences(sequence, len(max(train_sequence, key = len)), 'int', 'post', 'post', 0)\n",
    "\n",
    "def pad_sequence(sequence):\n",
    "    return pad_sequences(sequence, len(max(sequence, key = len)), 'int', 'post', 'post', 0)\n",
    "\n",
    "sequence_tokens = pad_sequence(sequence_tokens)\n",
    "sequence_preprocess = pad_sequence(sequence_preprocess)\n",
    "sequence_w_stopwords = pad_sequence(sequence_w_stopwords)\n",
    "\n",
    "test_token_sequence = test_token_update(test_tokens, id_dict_tokens)\n",
    "test_pre_sequence = test_token_update(test_preprocessed, id_dict_preprocess)\n",
    "test_stop_sequence = test_token_update(test_orig, id_dict_stopwords)\n",
    "\n",
    "test_token_sequence = pad_test_sequence(test_token_sequence, sequence_tokens)\n",
    "test_pre_sequence = pad_test_sequence(test_pre_sequence, sequence_preprocess)\n",
    "test_stop_sequence = pad_test_sequence(test_stop_sequence, sequence_w_stopwords)"
   ]
  },
  {
   "cell_type": "code",
   "execution_count": 80,
   "metadata": {},
   "outputs": [
    {
     "data": {
      "text/plain": [
       "array([[515, 227, 118, ...,   0,   0,   0],\n",
       "       [515, 285,  65, ...,   0,   0,   0],\n",
       "       [515, 333,  74, ...,   0,   0,   0],\n",
       "       ...,\n",
       "       [ 66, 342, 205, ...,   0,   0,   0],\n",
       "       [525, 519, 244, ...,   0,   0,   0],\n",
       "       [515, 115,   0, ...,   0,   0,   0]])"
      ]
     },
     "execution_count": 80,
     "metadata": {},
     "output_type": "execute_result"
    }
   ],
   "source": [
    "sequence_tokens"
   ]
  },
  {
   "cell_type": "markdown",
   "metadata": {},
   "source": [
    "Here I create the sequences that will be fed into the RNNs. I will be training 3 RNNs: one model on the tokens used in the other models, one model on the tokens before rare and neutral words were removed, and one model on the tokens before stopwords were removed. The test data is then put through the same process and to avoid test leakage, any words appearing in the test set that did not appear in the train set are not encoded and therefore are dropped."
   ]
  },
  {
   "cell_type": "code",
   "execution_count": 23,
   "metadata": {},
   "outputs": [
    {
     "name": "stderr",
     "output_type": "stream",
     "text": [
      "C:\\Users\\Sam\\AppData\\Roaming\\Python\\Python37\\site-packages\\tensorflow_core\\python\\framework\\indexed_slices.py:433: UserWarning: Converting sparse IndexedSlices to a dense Tensor of unknown shape. This may consume a large amount of memory.\n",
      "  \"Converting sparse IndexedSlices to a dense Tensor of unknown shape. \"\n"
     ]
    },
    {
     "name": "stdout",
     "output_type": "stream",
     "text": [
      "Train on 7352 samples, validate on 1839 samples\n",
      "Epoch 1/50\n",
      "7352/7352 [==============================] - 5s 628us/step - loss: 1.3112 - accuracy: 0.3534 - val_loss: 0.5574 - val_accuracy: 0.7809\n",
      "Epoch 2/50\n",
      "7352/7352 [==============================] - 3s 395us/step - loss: 0.9809 - accuracy: 0.7919 - val_loss: 0.4403 - val_accuracy: 0.7819\n",
      "Epoch 3/50\n",
      "7352/7352 [==============================] - 3s 374us/step - loss: 0.9757 - accuracy: 0.8277 - val_loss: 0.4096 - val_accuracy: 0.7966\n",
      "Epoch 4/50\n",
      "7352/7352 [==============================] - 3s 399us/step - loss: 0.9256 - accuracy: 0.8456 - val_loss: 0.3776 - val_accuracy: 0.8254\n",
      "Epoch 5/50\n",
      "7352/7352 [==============================] - 3s 380us/step - loss: 0.9093 - accuracy: 0.8583 - val_loss: 0.3411 - val_accuracy: 0.8564\n",
      "Epoch 6/50\n",
      "7352/7352 [==============================] - 3s 371us/step - loss: 0.8909 - accuracy: 0.8709 - val_loss: 0.3127 - val_accuracy: 0.8738\n",
      "Epoch 7/50\n",
      "7352/7352 [==============================] - 3s 412us/step - loss: 0.8694 - accuracy: 0.8811 - val_loss: 0.2880 - val_accuracy: 0.8771\n",
      "Epoch 8/50\n",
      "7352/7352 [==============================] - 3s 371us/step - loss: 0.8674 - accuracy: 0.8853 - val_loss: 0.2723 - val_accuracy: 0.8858\n",
      "Epoch 9/50\n",
      "7352/7352 [==============================] - 3s 368us/step - loss: 0.7842 - accuracy: 0.8955 - val_loss: 0.2649 - val_accuracy: 0.8885\n",
      "Epoch 10/50\n",
      "7352/7352 [==============================] - 3s 378us/step - loss: 0.8015 - accuracy: 0.8969 - val_loss: 0.2579 - val_accuracy: 0.8891\n",
      "Epoch 11/50\n",
      "7352/7352 [==============================] - 3s 384us/step - loss: 0.7593 - accuracy: 0.9008 - val_loss: 0.2519 - val_accuracy: 0.8967\n",
      "Epoch 12/50\n",
      "7352/7352 [==============================] - 3s 381us/step - loss: 0.7569 - accuracy: 0.9019 - val_loss: 0.2516 - val_accuracy: 0.8989\n",
      "Epoch 13/50\n",
      "7352/7352 [==============================] - 3s 371us/step - loss: 0.8066 - accuracy: 0.8992 - val_loss: 0.2475 - val_accuracy: 0.8994\n",
      "Epoch 14/50\n",
      "7352/7352 [==============================] - 3s 380us/step - loss: 0.8326 - accuracy: 0.9029 - val_loss: 0.2474 - val_accuracy: 0.8999\n",
      "Epoch 15/50\n",
      "7352/7352 [==============================] - 3s 376us/step - loss: 0.8091 - accuracy: 0.9064 - val_loss: 0.2563 - val_accuracy: 0.8989\n",
      "Epoch 16/50\n",
      "7352/7352 [==============================] - 3s 378us/step - loss: 0.7294 - accuracy: 0.9064 - val_loss: 0.2437 - val_accuracy: 0.9043\n",
      "Epoch 17/50\n",
      "7352/7352 [==============================] - 3s 377us/step - loss: 0.8470 - accuracy: 0.9004 - val_loss: 0.2411 - val_accuracy: 0.9092\n",
      "Epoch 18/50\n",
      "7352/7352 [==============================] - 3s 405us/step - loss: 0.7477 - accuracy: 0.9078 - val_loss: 0.2396 - val_accuracy: 0.9103\n",
      "Epoch 19/50\n",
      "7352/7352 [==============================] - 3s 379us/step - loss: 0.7767 - accuracy: 0.9079 - val_loss: 0.2404 - val_accuracy: 0.9108\n",
      "Epoch 20/50\n",
      "7352/7352 [==============================] - 3s 400us/step - loss: 0.7651 - accuracy: 0.9059 - val_loss: 0.2349 - val_accuracy: 0.9103\n",
      "Epoch 21/50\n",
      "7352/7352 [==============================] - 4s 525us/step - loss: 0.7084 - accuracy: 0.9120 - val_loss: 0.2392 - val_accuracy: 0.9119\n",
      "Epoch 22/50\n",
      "7352/7352 [==============================] - 3s 431us/step - loss: 0.7476 - accuracy: 0.9076 - val_loss: 0.2453 - val_accuracy: 0.9114\n",
      "Epoch 23/50\n",
      "7352/7352 [==============================] - 3s 442us/step - loss: 0.7951 - accuracy: 0.9064 - val_loss: 0.2468 - val_accuracy: 0.9108\n",
      "Epoch 24/50\n",
      "7352/7352 [==============================] - 4s 512us/step - loss: 0.7959 - accuracy: 0.9074 - val_loss: 0.2377 - val_accuracy: 0.9119\n",
      "Epoch 25/50\n",
      "7352/7352 [==============================] - 4s 487us/step - loss: 0.7897 - accuracy: 0.9086 - val_loss: 0.2396 - val_accuracy: 0.9135\n",
      "Epoch 26/50\n",
      "7352/7352 [==============================] - 4s 501us/step - loss: 0.7296 - accuracy: 0.9124 - val_loss: 0.2341 - val_accuracy: 0.9108\n",
      "Epoch 27/50\n",
      "7352/7352 [==============================] - 4s 484us/step - loss: 0.7101 - accuracy: 0.9091 - val_loss: 0.2365 - val_accuracy: 0.9108\n",
      "Epoch 28/50\n",
      "7352/7352 [==============================] - 4s 515us/step - loss: 0.8303 - accuracy: 0.9052 - val_loss: 0.2368 - val_accuracy: 0.9114\n",
      "Epoch 29/50\n",
      "7352/7352 [==============================] - 4s 520us/step - loss: 0.7878 - accuracy: 0.9066 - val_loss: 0.2367 - val_accuracy: 0.9114\n",
      "Epoch 30/50\n",
      "7352/7352 [==============================] - 4s 556us/step - loss: 0.7338 - accuracy: 0.9117 - val_loss: 0.2401 - val_accuracy: 0.9125\n",
      "Epoch 31/50\n",
      "7352/7352 [==============================] - 4s 520us/step - loss: 0.7590 - accuracy: 0.9098 - val_loss: 0.2528 - val_accuracy: 0.9119\n",
      "Epoch 32/50\n",
      "7352/7352 [==============================] - 4s 510us/step - loss: 0.7091 - accuracy: 0.9109 - val_loss: 0.2499 - val_accuracy: 0.9146\n",
      "Epoch 33/50\n",
      "7352/7352 [==============================] - 3s 415us/step - loss: 0.7614 - accuracy: 0.9101 - val_loss: 0.2465 - val_accuracy: 0.9141\n",
      "Epoch 34/50\n",
      "7352/7352 [==============================] - 3s 427us/step - loss: 0.7692 - accuracy: 0.9097 - val_loss: 0.2467 - val_accuracy: 0.9114\n",
      "Epoch 35/50\n",
      "7352/7352 [==============================] - 3s 406us/step - loss: 0.7807 - accuracy: 0.9076 - val_loss: 0.2451 - val_accuracy: 0.9119\n",
      "Epoch 36/50\n",
      "7352/7352 [==============================] - 3s 379us/step - loss: 0.7513 - accuracy: 0.9113 - val_loss: 0.2423 - val_accuracy: 0.9108\n",
      "Epoch 37/50\n",
      "7352/7352 [==============================] - 3s 400us/step - loss: 0.7724 - accuracy: 0.9102 - val_loss: 0.2437 - val_accuracy: 0.9114\n",
      "Epoch 38/50\n",
      "7352/7352 [==============================] - 3s 391us/step - loss: 0.8128 - accuracy: 0.9060 - val_loss: 0.2475 - val_accuracy: 0.9114\n",
      "Epoch 39/50\n",
      "7352/7352 [==============================] - 3s 379us/step - loss: 0.7505 - accuracy: 0.9106 - val_loss: 0.2458 - val_accuracy: 0.9119\n",
      "Epoch 40/50\n",
      "7352/7352 [==============================] - 3s 405us/step - loss: 0.7700 - accuracy: 0.9110 - val_loss: 0.2477 - val_accuracy: 0.9130\n",
      "Epoch 41/50\n",
      "7352/7352 [==============================] - 3s 397us/step - loss: 0.7102 - accuracy: 0.9131 - val_loss: 0.2463 - val_accuracy: 0.9119\n",
      "Epoch 42/50\n",
      "7352/7352 [==============================] - 3s 416us/step - loss: 0.7417 - accuracy: 0.9116 - val_loss: 0.2533 - val_accuracy: 0.9125\n",
      "Epoch 00042: early stopping\n"
     ]
    },
    {
     "data": {
      "image/png": "[encoded data removed]",
      "text/plain": [
       "<Figure size 432x288 with 1 Axes>"
      ]
     },
     "metadata": {
      "needs_background": "light"
     },
     "output_type": "display_data"
    },
    {
     "name": "stderr",
     "output_type": "stream",
     "text": [
      "C:\\Users\\Sam\\AppData\\Roaming\\Python\\Python37\\site-packages\\tensorflow_core\\python\\framework\\indexed_slices.py:433: UserWarning: Converting sparse IndexedSlices to a dense Tensor of unknown shape. This may consume a large amount of memory.\n",
      "  \"Converting sparse IndexedSlices to a dense Tensor of unknown shape. \"\n"
     ]
    },
    {
     "name": "stdout",
     "output_type": "stream",
     "text": [
      "Train on 7352 samples, validate on 1839 samples\n",
      "Epoch 1/50\n",
      "7352/7352 [==============================] - 6s 838us/step - loss: 1.2557 - accuracy: 0.3788 - val_loss: 0.5255 - val_accuracy: 0.7809\n",
      "Epoch 2/50\n",
      "7352/7352 [==============================] - 6s 760us/step - loss: 0.9809 - accuracy: 0.8100 - val_loss: 0.4431 - val_accuracy: 0.7847\n",
      "Epoch 3/50\n",
      "7352/7352 [==============================] - 5s 724us/step - loss: 0.9661 - accuracy: 0.8334 - val_loss: 0.4009 - val_accuracy: 0.8048\n",
      "Epoch 4/50\n",
      "7352/7352 [==============================] - 7s 919us/step - loss: 0.8705 - accuracy: 0.8589 - val_loss: 0.3575 - val_accuracy: 0.8472\n",
      "Epoch 5/50\n",
      "7352/7352 [==============================] - 7s 971us/step - loss: 0.8436 - accuracy: 0.8860 - val_loss: 0.3140 - val_accuracy: 0.8744\n",
      "Epoch 6/50\n",
      "7352/7352 [==============================] - 7s 967us/step - loss: 0.8360 - accuracy: 0.8962 - val_loss: 0.2909 - val_accuracy: 0.8891\n",
      "Epoch 7/50\n",
      "7352/7352 [==============================] - 6s 838us/step - loss: 0.7785 - accuracy: 0.9106 - val_loss: 0.2796 - val_accuracy: 0.8983\n",
      "Epoch 8/50\n",
      "7352/7352 [==============================] - 5s 729us/step - loss: 0.7786 - accuracy: 0.9144 - val_loss: 0.2810 - val_accuracy: 0.8989\n",
      "Epoch 9/50\n",
      "7352/7352 [==============================] - 5s 716us/step - loss: 0.7685 - accuracy: 0.9173 - val_loss: 0.2680 - val_accuracy: 0.8983\n",
      "Epoch 10/50\n",
      "7352/7352 [==============================] - 5s 713us/step - loss: 0.7318 - accuracy: 0.9245 - val_loss: 0.2603 - val_accuracy: 0.9032\n",
      "Epoch 11/50\n",
      "7352/7352 [==============================] - 5s 707us/step - loss: 0.6916 - accuracy: 0.9310 - val_loss: 0.2781 - val_accuracy: 0.8999\n",
      "Epoch 12/50\n",
      "7352/7352 [==============================] - 5s 708us/step - loss: 0.7277 - accuracy: 0.9279 - val_loss: 0.2684 - val_accuracy: 0.9032\n",
      "Epoch 13/50\n",
      "7352/7352 [==============================] - 6s 781us/step - loss: 0.7297 - accuracy: 0.9325 - val_loss: 0.2715 - val_accuracy: 0.9038\n",
      "Epoch 14/50\n",
      "7352/7352 [==============================] - 5s 696us/step - loss: 0.7160 - accuracy: 0.9361 - val_loss: 0.2803 - val_accuracy: 0.9038\n",
      "Epoch 15/50\n",
      "7352/7352 [==============================] - 6s 771us/step - loss: 0.6645 - accuracy: 0.9389 - val_loss: 0.2812 - val_accuracy: 0.9016\n",
      "Epoch 16/50\n",
      "7352/7352 [==============================] - 6s 806us/step - loss: 0.7040 - accuracy: 0.9382 - val_loss: 0.2891 - val_accuracy: 0.9038\n",
      "Epoch 17/50\n",
      "7352/7352 [==============================] - 5s 713us/step - loss: 0.6953 - accuracy: 0.9400 - val_loss: 0.2833 - val_accuracy: 0.9027\n",
      "Epoch 18/50\n",
      "7352/7352 [==============================] - 6s 749us/step - loss: 0.6750 - accuracy: 0.9415 - val_loss: 0.3062 - val_accuracy: 0.9043\n",
      "Epoch 19/50\n",
      "7352/7352 [==============================] - 5s 698us/step - loss: 0.6482 - accuracy: 0.9457 - val_loss: 0.2979 - val_accuracy: 0.9021\n",
      "Epoch 20/50\n",
      "7352/7352 [==============================] - 5s 710us/step - loss: 0.6844 - accuracy: 0.9448 - val_loss: 0.3240 - val_accuracy: 0.9021\n",
      "Epoch 21/50\n",
      "7352/7352 [==============================] - 6s 753us/step - loss: 0.6393 - accuracy: 0.9460 - val_loss: 0.3313 - val_accuracy: 0.9043\n",
      "Epoch 22/50\n",
      "7352/7352 [==============================] - 6s 768us/step - loss: 0.6744 - accuracy: 0.9456 - val_loss: 0.3272 - val_accuracy: 0.9043\n",
      "Epoch 23/50\n",
      "7352/7352 [==============================] - 6s 835us/step - loss: 0.6761 - accuracy: 0.9471 - val_loss: 0.4236 - val_accuracy: 0.8983\n",
      "Epoch 24/50\n",
      "7352/7352 [==============================] - 6s 762us/step - loss: 0.6458 - accuracy: 0.9494 - val_loss: 0.3385 - val_accuracy: 0.9021\n",
      "Epoch 25/50\n",
      "7352/7352 [==============================] - 5s 694us/step - loss: 0.6948 - accuracy: 0.9479 - val_loss: 0.3386 - val_accuracy: 0.9027\n",
      "Epoch 26/50\n",
      "7352/7352 [==============================] - 5s 686us/step - loss: 0.6547 - accuracy: 0.9504 - val_loss: 0.3502 - val_accuracy: 0.8994\n",
      "Epoch 27/50\n",
      "7352/7352 [==============================] - 7s 958us/step - loss: 0.6449 - accuracy: 0.9510 - val_loss: 0.3777 - val_accuracy: 0.9010\n",
      "Epoch 28/50\n",
      "7352/7352 [==============================] - 7s 1ms/step - loss: 0.6553 - accuracy: 0.9513 - val_loss: 0.3887 - val_accuracy: 0.9005\n",
      "Epoch 00028: early stopping\n"
     ]
    },
    {
     "data": {
      "image/png": "[encoded data removed]",
      "text/plain": [
       "<Figure size 432x288 with 1 Axes>"
      ]
     },
     "metadata": {
      "needs_background": "light"
     },
     "output_type": "display_data"
    },
    {
     "name": "stderr",
     "output_type": "stream",
     "text": [
      "C:\\Users\\Sam\\AppData\\Roaming\\Python\\Python37\\site-packages\\tensorflow_core\\python\\framework\\indexed_slices.py:433: UserWarning: Converting sparse IndexedSlices to a dense Tensor of unknown shape. This may consume a large amount of memory.\n",
      "  \"Converting sparse IndexedSlices to a dense Tensor of unknown shape. \"\n"
     ]
    },
    {
     "name": "stdout",
     "output_type": "stream",
     "text": [
      "Train on 7352 samples, validate on 1839 samples\n",
      "Epoch 1/50\n",
      "7352/7352 [==============================] - 11s 1ms/step - loss: 1.2123 - accuracy: 0.4460 - val_loss: 0.4797 - val_accuracy: 0.7809\n",
      "Epoch 2/50\n",
      "7352/7352 [==============================] - 8s 1ms/step - loss: 0.9522 - accuracy: 0.8158 - val_loss: 0.4360 - val_accuracy: 0.7825\n",
      "Epoch 3/50\n",
      "7352/7352 [==============================] - 8s 1ms/step - loss: 0.8849 - accuracy: 0.8324 - val_loss: 0.3983 - val_accuracy: 0.8026\n",
      "Epoch 4/50\n",
      "7352/7352 [==============================] - 8s 1ms/step - loss: 0.8799 - accuracy: 0.8599 - val_loss: 0.3468 - val_accuracy: 0.8521\n",
      "Epoch 5/50\n",
      "7352/7352 [==============================] - 8s 1ms/step - loss: 0.8463 - accuracy: 0.8881 - val_loss: 0.3136 - val_accuracy: 0.8798\n",
      "Epoch 6/50\n",
      "7352/7352 [==============================] - 8s 1ms/step - loss: 0.8145 - accuracy: 0.9037 - val_loss: 0.3031 - val_accuracy: 0.8912\n",
      "Epoch 7/50\n",
      "7352/7352 [==============================] - 8s 1ms/step - loss: 0.7468 - accuracy: 0.9161 - val_loss: 0.2747 - val_accuracy: 0.8934\n",
      "Epoch 8/50\n",
      "7352/7352 [==============================] - 8s 1ms/step - loss: 0.7576 - accuracy: 0.9207 - val_loss: 0.2768 - val_accuracy: 0.9027\n",
      "Epoch 9/50\n",
      "7352/7352 [==============================] - 8s 1ms/step - loss: 0.7653 - accuracy: 0.9251 - val_loss: 0.2996 - val_accuracy: 0.9027\n",
      "Epoch 10/50\n",
      "7352/7352 [==============================] - 8s 1ms/step - loss: 0.7115 - accuracy: 0.9317 - val_loss: 0.3151 - val_accuracy: 0.9027\n",
      "Epoch 11/50\n",
      "7352/7352 [==============================] - 8s 1ms/step - loss: 0.6859 - accuracy: 0.9347 - val_loss: 0.2736 - val_accuracy: 0.9097\n",
      "Epoch 12/50\n",
      "7352/7352 [==============================] - 9s 1ms/step - loss: 0.7317 - accuracy: 0.9358 - val_loss: 0.2749 - val_accuracy: 0.9119\n",
      "Epoch 13/50\n",
      "7352/7352 [==============================] - 9s 1ms/step - loss: 0.6702 - accuracy: 0.9419 - val_loss: 0.2892 - val_accuracy: 0.9092\n",
      "Epoch 14/50\n",
      "7352/7352 [==============================] - 9s 1ms/step - loss: 0.6983 - accuracy: 0.9410 - val_loss: 0.2921 - val_accuracy: 0.9086\n",
      "Epoch 15/50\n",
      "7352/7352 [==============================] - 9s 1ms/step - loss: 0.6395 - accuracy: 0.9463 - val_loss: 0.2902 - val_accuracy: 0.9086\n",
      "Epoch 16/50\n",
      "7352/7352 [==============================] - 9s 1ms/step - loss: 0.6485 - accuracy: 0.9483 - val_loss: 0.2851 - val_accuracy: 0.9054\n",
      "Epoch 17/50\n",
      "7352/7352 [==============================] - 8s 1ms/step - loss: 0.7368 - accuracy: 0.9431 - val_loss: 0.3091 - val_accuracy: 0.9081\n",
      "Epoch 18/50\n",
      "7352/7352 [==============================] - 8s 1ms/step - loss: 0.7030 - accuracy: 0.9457 - val_loss: 0.3176 - val_accuracy: 0.9065\n",
      "Epoch 19/50\n",
      "7352/7352 [==============================] - 8s 1ms/step - loss: 0.6709 - accuracy: 0.9489 - val_loss: 0.3163 - val_accuracy: 0.9059\n",
      "Epoch 20/50\n",
      "7352/7352 [==============================] - 7s 1ms/step - loss: 0.6538 - accuracy: 0.9487 - val_loss: 0.3518 - val_accuracy: 0.9038\n",
      "Epoch 21/50\n",
      "7352/7352 [==============================] - 8s 1ms/step - loss: 0.6286 - accuracy: 0.9527 - val_loss: 0.3306 - val_accuracy: 0.9043\n",
      "Epoch 22/50\n",
      "7352/7352 [==============================] - 7s 994us/step - loss: 0.7117 - accuracy: 0.9476 - val_loss: 0.3512 - val_accuracy: 0.9038\n",
      "Epoch 00022: early stopping\n"
     ]
    },
    {
     "data": {
      "image/png": "[encoded data removed]",
      "text/plain": [
       "<Figure size 432x288 with 1 Axes>"
      ]
     },
     "metadata": {
      "needs_background": "light"
     },
     "output_type": "display_data"
    }
   ],
   "source": [
    "from keras.models import Sequential\n",
    "from keras.layers import Embedding, LSTM, Dense, Dropout\n",
    "from keras.callbacks import EarlyStopping, ModelCheckpoint\n",
    "from keras import optimizers\n",
    "\n",
    "def build_train_model(sequence, y, id_dict, embedding_size, lstm_size,\n",
    "                      dropout, epochs, batch_size, filename):\n",
    "    model = Sequential()\n",
    "    \n",
    "    model.add(Embedding(max(id_dict.values()) + 2, embedding_size, mask_zero = True, \n",
    "                        input_length = len(max(sequence, key = len))))\n",
    "    model.add(LSTM(lstm_size, activation = 'tanh', recurrent_activation = 'sigmoid', dropout = dropout, use_bias = True, \n",
    "                   unit_forget_bias = True))\n",
    "    model.add(Dense(1, activation = 'sigmoid', use_bias = True))\n",
    "    model.add(Dropout(0.2))\n",
    "    \n",
    "    adam = optimizers.Adam(learning_rate = 0.0001)\n",
    "    \n",
    "    model.compile(optimizer = adam, loss = 'binary_crossentropy', metrics = ['accuracy'])\n",
    "    \n",
    "    es = EarlyStopping(monitor = ('val_accuracy'), mode = 'max', verbose = 1, patience = 10)\n",
    "    mc = ModelCheckpoint(filename, monitor = 'val_accuracy', save_best_only = True)\n",
    "    \n",
    "    history = model.fit(x = sequence, y = y, batch_size = batch_size, epochs = epochs, \n",
    "                        verbose = 1, validation_split = .2, callbacks = [es, mc])\n",
    "    \n",
    "    plt.plot(history.history['accuracy'], label = 'train')\n",
    "    plt.plot(history.history['val_accuracy'], label = 'test')\n",
    "    plt.legend()\n",
    "    plt.show()\n",
    "    \n",
    "y = train_labels\n",
    "embedding_size = 100\n",
    "LSTM_size = 128\n",
    "dropout = .2\n",
    "epochs = 50\n",
    "batch_size = 100\n",
    "\n",
    "build_train_model(sequence_tokens, y, id_dict_tokens, embedding_size, LSTM_size,\n",
    "                  dropout, epochs, batch_size, 'models/token.h5')\n",
    "build_train_model(sequence_preprocess, y, id_dict_preprocess, embedding_size, LSTM_size, dropout, epochs, \n",
    "                  batch_size, 'models/preprocess.h5')\n",
    "build_train_model(sequence_w_stopwords, y, id_dict_stopwords, embedding_size, LSTM_size, dropout, epochs, \n",
    "                  batch_size, 'models/stopwords.h5')"
   ]
  },
  {
   "cell_type": "markdown",
   "metadata": {},
   "source": [
    "The RNN models seem extremely promising, with all 3 achieving a validation accuracy of 96%, a huge boost over the other machine learning models. Note that this does not compare directly with the other models validation scores as I have used accuracy instead of f1 score. The reason for this is it is difficult to implement f1 score in keras, however I will evaluate the f1 score on the test data to get a comparison against the traditional machine learning models.\n",
    "\n",
    "The models did not gain any benefit from weighting the instances by their label confidence. However, balancing the dataset leads to highly inflated validation accuracy (as there are duplicate instances in the validation set) but no real affect on the test accuracy, which leads me to believe we should not be balancing the training data.\n",
    "\n",
    "The model is very easily scalable and would likely continue to improve with larger data sources. The RNN's can be scaled to larger vocabularies by increasing the size of the embedding layer and can be scaled to more instances by increasing the size of the LSTM layer."
   ]
  },
  {
   "cell_type": "code",
   "execution_count": 24,
   "metadata": {},
   "outputs": [
    {
     "name": "stdout",
     "output_type": "stream",
     "text": [
      "Multinomial NB: 0.646551724137931\n",
      "Gaussian NB: 0.4515759312320917\n",
      "Gradient Boosted: 0.6308724832214765\n"
     ]
    },
    {
     "name": "stderr",
     "output_type": "stream",
     "text": [
      "C:\\Users\\Sam\\AppData\\Roaming\\Python\\Python37\\site-packages\\tensorflow_core\\python\\framework\\indexed_slices.py:433: UserWarning: Converting sparse IndexedSlices to a dense Tensor of unknown shape. This may consume a large amount of memory.\n",
      "  \"Converting sparse IndexedSlices to a dense Tensor of unknown shape. \"\n",
      "C:\\Users\\Sam\\AppData\\Roaming\\Python\\Python37\\site-packages\\tensorflow_core\\python\\framework\\indexed_slices.py:433: UserWarning: Converting sparse IndexedSlices to a dense Tensor of unknown shape. This may consume a large amount of memory.\n",
      "  \"Converting sparse IndexedSlices to a dense Tensor of unknown shape. \"\n",
      "C:\\Users\\Sam\\AppData\\Roaming\\Python\\Python37\\site-packages\\tensorflow_core\\python\\framework\\indexed_slices.py:433: UserWarning: Converting sparse IndexedSlices to a dense Tensor of unknown shape. This may consume a large amount of memory.\n",
      "  \"Converting sparse IndexedSlices to a dense Tensor of unknown shape. \"\n"
     ]
    },
    {
     "name": "stdout",
     "output_type": "stream",
     "text": [
      "RNN with tokens: 0.717815344603381\n",
      "RNN with preprocessed: 0.7235668789808918\n",
      "RNN with stopwords: 0.7852760736196318\n"
     ]
    }
   ],
   "source": [
    "from sklearn.metrics import f1_score\n",
    "from keras.models import load_model\n",
    "\n",
    "print('Multinomial NB:', f1_score(test_labels, multi_cv['estimator'][0].predict(test_matrix.toarray())))\n",
    "print('Gaussian NB:', f1_score(test_labels, gauss_cv['estimator'][0].predict(test_matrix.toarray())))\n",
    "print('Gradient Boosted:', f1_score(test_labels, gb_cv['estimator'][0].predict(test_matrix.toarray())))\n",
    "\n",
    "token_model = load_model('models/token.h5')\n",
    "preprocess_model = load_model('models/preprocess.h5')\n",
    "stopword_model = load_model('models/stopwords.h5')\n",
    "\n",
    "print('RNN with tokens:', f1_score(test_labels, pd.Series(token_model.predict(test_token_sequence).flatten()).map(round)))\n",
    "print('RNN with preprocessed:', f1_score(test_labels, pd.Series(preprocess_model.predict(test_pre_sequence).flatten()).map(round)))\n",
    "print('RNN with stopwords:', f1_score(test_labels, pd.Series(stopword_model.predict(test_stop_sequence).flatten()).map(round)))"
   ]
  },
  {
   "cell_type": "markdown",
   "metadata": {},
   "source": [
    "On the test data, the RNN model with stopwords performs best, beating out other models by almost 4 percentage points. All 3 RNN models outperform all 3 traditional machine learning models, indicating that the RNN models are likely superior."
   ]
  },
  {
   "cell_type": "code",
   "execution_count": 81,
   "metadata": {},
   "outputs": [],
   "source": [
    "##FUTURE EXPANSION - NGRAMS, use chi2 to automatically select features\n",
    "models = ['Multinomial NB', 'Gaussian NB', 'Gradient Boosted', 'Token RNN', 'Rare Word RNN', 'Stopword RNN']\n",
    "scores = [f1_score(test_labels, multi_cv['estimator'][0].predict(test_matrix.toarray())),\n",
    "          f1_score(test_labels, gauss_cv['estimator'][0].predict(test_matrix.toarray())),\n",
    "          f1_score(test_labels, gb_cv['estimator'][0].predict(test_matrix.toarray())),\n",
    "          f1_score(test_labels, pd.Series(token_model.predict(test_token_sequence).flatten()).map(round)),\n",
    "          f1_score(test_labels, pd.Series(preprocess_model.predict(test_pre_sequence).flatten()).map(round)),\n",
    "          f1_score(test_labels, pd.Series(stopword_model.predict(test_stop_sequence).flatten()).map(round))]\n",
    "score_model_df = pd.DataFrame({'Model':models,'F1 Score':scores})"
   ]
  },
  {
   "cell_type": "code",
   "execution_count": 84,
   "metadata": {},
   "outputs": [
    {
     "data": {
      "text/plain": [
       "(array([0, 1, 2, 3, 4, 5]), <a list of 6 Text xticklabel objects>)"
      ]
     },
     "execution_count": 84,
     "metadata": {},
     "output_type": "execute_result"
    },
    {
     "data": {
      "image/png": "[encoded data removed]",
      "text/plain": [
       "<Figure size 432x288 with 1 Axes>"
      ]
     },
     "metadata": {
      "needs_background": "light"
     },
     "output_type": "display_data"
    }
   ],
   "source": [
    "sns.barplot(x = 'Model', y = 'F1 Score', data = score_model_df)\n",
    "plt.xticks(rotation = 45)"
   ]
  },
  {
   "cell_type": "code",
   "execution_count": null,
   "metadata": {},
   "outputs": [],
   "source": []
  }
 ],
 "metadata": {
  "kernelspec": {
   "display_name": "Python 3",
   "language": "python",
   "name": "python3"
  },
  "language_info": {
   "codemirror_mode": {
    "name": "ipython",
    "version": 3
   },
   "file_extension": ".py",
   "mimetype": "text/x-python",
   "name": "python",
   "nbconvert_exporter": "python",
   "pygments_lexer": "ipython3",
   "version": "3.7.3"
  }
 },
 "nbformat": 4,
 "nbformat_minor": 2
}
